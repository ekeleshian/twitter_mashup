{
 "cells": [
  {
   "cell_type": "code",
   "execution_count": 1,
   "metadata": {},
   "outputs": [],
   "source": [
    "import pickle"
   ]
  },
  {
   "cell_type": "code",
   "execution_count": 2,
   "metadata": {},
   "outputs": [],
   "source": [
    "import pandas as pd"
   ]
  },
  {
   "cell_type": "code",
   "execution_count": 3,
   "metadata": {},
   "outputs": [],
   "source": [
    "%load_ext autoreload"
   ]
  },
  {
   "cell_type": "code",
   "execution_count": 4,
   "metadata": {},
   "outputs": [],
   "source": [
    "%autoreload 2"
   ]
  },
  {
   "cell_type": "code",
   "execution_count": 5,
   "metadata": {},
   "outputs": [],
   "source": [
    "pd.set_option(\"max_row\", 1000)\n",
    "pd.set_option('display.width', 1000)\n",
    "pd.set_option('max_colwidth', 10000)"
   ]
  },
  {
   "cell_type": "code",
   "execution_count": 31,
   "metadata": {},
   "outputs": [
    {
     "name": "stdout",
     "output_type": "stream",
     "text": [
      "Alyssa_Milano_lastid.pkl      elonmusk_tweets_2.pkl\n",
      "Alyssa_Milano_lastid_2.pkl    elonmusk_tweets_v2.pkl\n",
      "Alyssa_Milano_tweets.pkl      get_tweets.py\n",
      "Alyssa_Milano_tweets_2.pkl    kanyewest_lastid.pkl\n",
      "Alyssa_Milano_tweets_v2.pkl   kanyewest_lastid_2.pkl\n",
      "FINALLEVEL_lastid_2.pkl       kanyewest_tweets.pkl\n",
      "FINALLEVEL_tweets_2.pkl       kanyewest_tweets_2.pkl\n",
      "FINALLEVEL_tweets_v2.pkl      kanyewest_tweets_v2.pkl\n",
      "Untitled.ipynb                realDonaldTrump_lastid.pkl\n",
      "annakhachiyan_tweets_v2.pkl   realDonaldTrump_lastid_2.pkl\n",
      "dtrump_tweets.pkl             realDonaldTrump_tweets.pkl\n",
      "elonmusk_lastid.pkl           realDonaldTrump_tweets_2.pkl\n",
      "elonmusk_lastid_2.pkl         realDonaldTrump_tweets_v2.pkl\n",
      "elonmusk_tweets.pkl           \u001b[34mtweetMashUp\u001b[m\u001b[m\n"
     ]
    }
   ],
   "source": [
    "!ls"
   ]
  },
  {
   "cell_type": "code",
   "execution_count": 34,
   "metadata": {},
   "outputs": [],
   "source": [
    "with open(\"elonmusk_tweets.pkl\", 'rb') as file:\n",
    "    elon = pickle.load(file)\n",
    "\n",
    "with open(\"realDonaldTrump_tweets.pkl\", 'rb') as file:\n",
    "    dt = pickle.load(file)\n",
    "    \n",
    "    \n",
    "with open(\"Alyssa_Milano_tweets.pkl\",'rb') as file:\n",
    "    am = pickle.load(file)\n",
    "    \n",
    "with open(\"kanyewest_tweets.pkl\", 'rb') as file:\n",
    "    ye = pickle.load(file)\n",
    "    \n",
    "    \n",
    "with open(\"elonmusk_tweets_2.pkl\", 'rb') as file:\n",
    "    elon2 = pickle.load(file)\n",
    "\n",
    "with open(\"realDonaldTrump_tweets_2.pkl\", 'rb') as file:\n",
    "    dt2 = pickle.load(file)\n",
    "    \n",
    "    \n",
    "with open(\"Alyssa_Milano_tweets_2.pkl\",'rb') as file:\n",
    "    am2 = pickle.load(file)\n",
    "    \n",
    "with open(\"kanyewest_tweets_2.pkl\", 'rb') as file:\n",
    "    ye2 = pickle.load(file)\n",
    "    \n",
    "    \n",
    "with open(\"FINALLEVEL_tweets_2.pkl\", 'rb') as file:\n",
    "    ice = pickle.load(file)\n",
    "    \n",
    "with open(\"realDonaldTrump_tweets_v2.pkl\", 'rb') as file:\n",
    "    dt3 = pickle.load(file)\n",
    "    \n",
    "with open(\"Alyssa_Milano_tweets_v2.pkl\", \"rb\") as file:\n",
    "    am3 = pickle.load(file)\n",
    "    \n",
    "with open(\"kanyewest_tweets_v2.pkl\", 'rb') as file:\n",
    "    ye3 = pickle.load(file)\n",
    "    \n",
    "with open(\"elonmusk_tweets_v2.pkl\", \"rb\") as file:\n",
    "    elon3 = pickle.load(file)\n",
    "    \n",
    "with open(\"annakhachiyan_tweets_v2.pkl\", \"rb\") as file:\n",
    "    ak= pickle.load(file)\n",
    "    \n",
    "with open(\"FINALLEVEL_tweets_v2.pkl\", \"rb\") as file:\n",
    "    ice2 = pickle.load(file)\n",
    "    \n",
    "    "
   ]
  },
  {
   "cell_type": "code",
   "execution_count": 35,
   "metadata": {},
   "outputs": [
    {
     "data": {
      "text/plain": [
       "[]"
      ]
     },
     "execution_count": 35,
     "metadata": {},
     "output_type": "execute_result"
    }
   ],
   "source": [
    "am2"
   ]
  },
  {
   "cell_type": "code",
   "execution_count": 36,
   "metadata": {},
   "outputs": [],
   "source": [
    "el = list(set(elon + elon2+elon3))\n",
    "rdt = list(set(dt + dt2 + dt3))\n",
    "kye = list(set(ye + ye2 + ye3))\n",
    "ice = list(set(ice + ice2))\n",
    "ak = list(set(ak))\n",
    "am = list(set(am + am3))"
   ]
  },
  {
   "cell_type": "code",
   "execution_count": 37,
   "metadata": {},
   "outputs": [],
   "source": [
    "df = pd.DataFrame({\"user\": [\"elonmusk\"]*len(el) + [\"realDonaldTrump\"]*len(rdt) + [\"Alyssa_Milano\"]*len(am) + [\"kanyewest\"]*len(kye) + ['FINALLEVEL']*len(ice) + [\"annakhachiyan\"]*len(ak), \"tweet\": el + rdt + am + kye + ice + ak})"
   ]
  },
  {
   "cell_type": "code",
   "execution_count": 38,
   "metadata": {},
   "outputs": [
    {
     "data": {
      "text/html": [
       "<div>\n",
       "<style scoped>\n",
       "    .dataframe tbody tr th:only-of-type {\n",
       "        vertical-align: middle;\n",
       "    }\n",
       "\n",
       "    .dataframe tbody tr th {\n",
       "        vertical-align: top;\n",
       "    }\n",
       "\n",
       "    .dataframe thead th {\n",
       "        text-align: right;\n",
       "    }\n",
       "</style>\n",
       "<table border=\"1\" class=\"dataframe\">\n",
       "  <thead>\n",
       "    <tr style=\"text-align: right;\">\n",
       "      <th></th>\n",
       "      <th>user</th>\n",
       "      <th>tweet</th>\n",
       "    </tr>\n",
       "  </thead>\n",
       "  <tbody>\n",
       "    <tr>\n",
       "      <th>0</th>\n",
       "      <td>elonmusk</td>\n",
       "      <td>Thanks Tesla owners &amp; investors! Love you!! We will work super hard to earn your trust &amp; support.</td>\n",
       "    </tr>\n",
       "    <tr>\n",
       "      <th>1</th>\n",
       "      <td>elonmusk</td>\n",
       "      <td>SN8 Starship with flaps &amp; nosecone should be done in about a week. Then static fire, checkouts, static fire, fly to 60,000 ft &amp; back.</td>\n",
       "    </tr>\n",
       "    <tr>\n",
       "      <th>2</th>\n",
       "      <td>elonmusk</td>\n",
       "      <td>5 mins from liftoff</td>\n",
       "    </tr>\n",
       "    <tr>\n",
       "      <th>3</th>\n",
       "      <td>elonmusk</td>\n",
       "      <td>Great trip to Germany. Support from government &amp; people is super appreciated!</td>\n",
       "    </tr>\n",
       "    <tr>\n",
       "      <th>4</th>\n",
       "      <td>elonmusk</td>\n",
       "      <td>Tesla Model Y review by Dan Neil</td>\n",
       "    </tr>\n",
       "  </tbody>\n",
       "</table>\n",
       "</div>"
      ],
      "text/plain": [
       "       user                                                                                                                                  tweet\n",
       "0  elonmusk                                      Thanks Tesla owners & investors! Love you!! We will work super hard to earn your trust & support.\n",
       "1  elonmusk  SN8 Starship with flaps & nosecone should be done in about a week. Then static fire, checkouts, static fire, fly to 60,000 ft & back.\n",
       "2  elonmusk                                                                                                                    5 mins from liftoff\n",
       "3  elonmusk                                                          Great trip to Germany. Support from government & people is super appreciated!\n",
       "4  elonmusk                                                                                                       Tesla Model Y review by Dan Neil"
      ]
     },
     "execution_count": 38,
     "metadata": {},
     "output_type": "execute_result"
    }
   ],
   "source": [
    "df.head()"
   ]
  },
  {
   "cell_type": "code",
   "execution_count": 39,
   "metadata": {},
   "outputs": [],
   "source": [
    "df = df.sample(frac=1)"
   ]
  },
  {
   "cell_type": "code",
   "execution_count": 40,
   "metadata": {},
   "outputs": [
    {
     "data": {
      "text/html": [
       "<div>\n",
       "<style scoped>\n",
       "    .dataframe tbody tr th:only-of-type {\n",
       "        vertical-align: middle;\n",
       "    }\n",
       "\n",
       "    .dataframe tbody tr th {\n",
       "        vertical-align: top;\n",
       "    }\n",
       "\n",
       "    .dataframe thead th {\n",
       "        text-align: right;\n",
       "    }\n",
       "</style>\n",
       "<table border=\"1\" class=\"dataframe\">\n",
       "  <thead>\n",
       "    <tr style=\"text-align: right;\">\n",
       "      <th></th>\n",
       "      <th>user</th>\n",
       "      <th>tweet</th>\n",
       "    </tr>\n",
       "  </thead>\n",
       "  <tbody>\n",
       "    <tr>\n",
       "      <th>5778</th>\n",
       "      <td>FINALLEVEL</td>\n",
       "      <td>Everybody knew this was coming.. Nobody surprised. I’ve been speaking on this BS my entire career.. Power To The Pe…</td>\n",
       "    </tr>\n",
       "    <tr>\n",
       "      <th>2822</th>\n",
       "      <td>kanyewest</td>\n",
       "      <td>Been trying to connect with Master P and Baby I’ve always felt they understood how to be independent</td>\n",
       "    </tr>\n",
       "    <tr>\n",
       "      <th>778</th>\n",
       "      <td>realDonaldTrump</td>\n",
       "      <td>Joe Biden called police “The Enemy,” and vilified them as a racist, oppressive force. The rhetoric of Joe Biden and…</td>\n",
       "    </tr>\n",
       "    <tr>\n",
       "      <th>5706</th>\n",
       "      <td>FINALLEVEL</td>\n",
       "      <td>Played it and loved it.</td>\n",
       "    </tr>\n",
       "    <tr>\n",
       "      <th>6565</th>\n",
       "      <td>annakhachiyan</td>\n",
       "      <td>Queen</td>\n",
       "    </tr>\n",
       "  </tbody>\n",
       "</table>\n",
       "</div>"
      ],
      "text/plain": [
       "                 user                                                                                                                 tweet\n",
       "5778       FINALLEVEL  Everybody knew this was coming.. Nobody surprised. I’ve been speaking on this BS my entire career.. Power To The Pe…\n",
       "2822        kanyewest                  Been trying to connect with Master P and Baby I’ve always felt they understood how to be independent\n",
       "778   realDonaldTrump  Joe Biden called police “The Enemy,” and vilified them as a racist, oppressive force. The rhetoric of Joe Biden and…\n",
       "5706       FINALLEVEL                                                                                               Played it and loved it.\n",
       "6565    annakhachiyan                                                                                                                 Queen"
      ]
     },
     "execution_count": 40,
     "metadata": {},
     "output_type": "execute_result"
    }
   ],
   "source": [
    "df.head()"
   ]
  },
  {
   "cell_type": "code",
   "execution_count": 41,
   "metadata": {},
   "outputs": [
    {
     "data": {
      "text/plain": [
       "(7527, 2)"
      ]
     },
     "execution_count": 41,
     "metadata": {},
     "output_type": "execute_result"
    }
   ],
   "source": [
    "df.shape"
   ]
  },
  {
   "cell_type": "code",
   "execution_count": 42,
   "metadata": {},
   "outputs": [],
   "source": [
    "import matplotlib.pyplot as plt"
   ]
  },
  {
   "cell_type": "code",
   "execution_count": 43,
   "metadata": {},
   "outputs": [],
   "source": [
    "import seaborn as sns"
   ]
  },
  {
   "cell_type": "code",
   "execution_count": 51,
   "metadata": {},
   "outputs": [
    {
     "data": {
      "text/plain": [
       "array(['FINALLEVEL', 'kanyewest', 'realDonaldTrump', 'annakhachiyan',\n",
       "       'Alyssa_Milano', 'elonmusk'], dtype=object)"
      ]
     },
     "execution_count": 51,
     "metadata": {},
     "output_type": "execute_result"
    }
   ],
   "source": [
    "df['user'].value_counts().index.values"
   ]
  },
  {
   "cell_type": "code",
   "execution_count": 250,
   "metadata": {},
   "outputs": [
    {
     "data": {
      "text/plain": [
       "([<matplotlib.axis.XTick at 0x7f8342b8ebe0>,\n",
       "  <matplotlib.axis.XTick at 0x7f8342b8eda0>,\n",
       "  <matplotlib.axis.XTick at 0x7f8342b8e588>,\n",
       "  <matplotlib.axis.XTick at 0x7f8342ba0a90>,\n",
       "  <matplotlib.axis.XTick at 0x7f8342ba0588>],\n",
       " [Text(0, 0, 'FINALLEVEL'),\n",
       "  Text(1, 0, 'kanyewest'),\n",
       "  Text(2, 0, 'realDonaldTrump'),\n",
       "  Text(3, 0, 'annakhachiyan'),\n",
       "  Text(4, 0, 'Alyssa_Milano')])"
      ]
     },
     "execution_count": 250,
     "metadata": {},
     "output_type": "execute_result"
    },
    {
     "data": {
      "image/png": "[encoded data removed]",
      "text/plain": [
       "<Figure size 432x288 with 1 Axes>"
      ]
     },
     "metadata": {
      "needs_background": "light"
     },
     "output_type": "display_data"
    }
   ],
   "source": [
    "plt.bar(range(len(df['user'].value_counts())), df['user'].value_counts().values, align='center')\n",
    "\n",
    "plt.xticks(range(len(df['user'].value_counts())), df['user'].value_counts().index.values, size='small')"
   ]
  },
  {
   "cell_type": "code",
   "execution_count": 53,
   "metadata": {},
   "outputs": [],
   "source": [
    "df['word_count'] = df['tweet'].apply(lambda text: len(text.split()))"
   ]
  },
  {
   "cell_type": "code",
   "execution_count": 54,
   "metadata": {},
   "outputs": [
    {
     "data": {
      "text/plain": [
       "user\n",
       "Alyssa_Milano      13.759857\n",
       "FINALLEVEL         12.637546\n",
       "annakhachiyan      14.473888\n",
       "elonmusk            8.636119\n",
       "kanyewest          11.276042\n",
       "realDonaldTrump    15.100529\n",
       "Name: word_count, dtype: float64"
      ]
     },
     "execution_count": 54,
     "metadata": {},
     "output_type": "execute_result"
    }
   ],
   "source": [
    "df.groupby('user')['word_count'].mean()"
   ]
  },
  {
   "cell_type": "code",
   "execution_count": 249,
   "metadata": {},
   "outputs": [
    {
     "data": {
      "text/plain": [
       "([<matplotlib.axis.XTick at 0x7f8342b634a8>,\n",
       "  <matplotlib.axis.XTick at 0x7f8342b63dd8>,\n",
       "  <matplotlib.axis.XTick at 0x7f8342b5fc88>,\n",
       "  <matplotlib.axis.XTick at 0x7f8342b71e10>,\n",
       "  <matplotlib.axis.XTick at 0x7f8342b76cf8>],\n",
       " [Text(0, 0, 'Alyssa_Milano'),\n",
       "  Text(1, 0, 'FINALLEVEL'),\n",
       "  Text(2, 0, 'annakhachiyan'),\n",
       "  Text(3, 0, 'kanyewest'),\n",
       "  Text(4, 0, 'realDonaldTrump')])"
      ]
     },
     "execution_count": 249,
     "metadata": {},
     "output_type": "execute_result"
    },
    {
     "data": {
      "image/png": "[encoded data removed]",
      "text/plain": [
       "<Figure size 432x288 with 1 Axes>"
      ]
     },
     "metadata": {
      "needs_background": "light"
     },
     "output_type": "display_data"
    }
   ],
   "source": [
    "plt.bar(range(len(df.groupby('user')['word_count'].mean())), df.groupby('user')['word_count'].mean().values, align='center')\n",
    "\n",
    "plt.xticks(range(len(df.groupby('user')['word_count'].mean())), df.groupby('user')['word_count'].mean().index.values, size='small')"
   ]
  },
  {
   "cell_type": "code",
   "execution_count": 240,
   "metadata": {},
   "outputs": [],
   "source": [
    "ice_tea = df[df['user'] == \"FINALLEVEL\"]\n",
    "ice_t = ice_tea[ice_tea['word_count'] > 12]\n",
    "idx2 = ice_t.index"
   ]
  },
  {
   "cell_type": "code",
   "execution_count": 241,
   "metadata": {},
   "outputs": [],
   "source": [
    "idx = ice_tea[~ice_tea.index.isin(ice_t.index)].index"
   ]
  },
  {
   "cell_type": "code",
   "execution_count": 242,
   "metadata": {},
   "outputs": [
    {
     "data": {
      "text/plain": [
       "1439"
      ]
     },
     "execution_count": 242,
     "metadata": {},
     "output_type": "execute_result"
    }
   ],
   "source": [
    "len(idx2)"
   ]
  },
  {
   "cell_type": "code",
   "execution_count": 243,
   "metadata": {},
   "outputs": [
    {
     "data": {
      "text/plain": [
       "1560"
      ]
     },
     "execution_count": 243,
     "metadata": {},
     "output_type": "execute_result"
    }
   ],
   "source": [
    "len(idx)"
   ]
  },
  {
   "cell_type": "code",
   "execution_count": 245,
   "metadata": {},
   "outputs": [
    {
     "data": {
      "text/plain": [
       "0"
      ]
     },
     "execution_count": 245,
     "metadata": {},
     "output_type": "execute_result"
    }
   ],
   "source": [
    "len(set(list(idx2)) & set(list(idx)))"
   ]
  },
  {
   "cell_type": "code",
   "execution_count": 248,
   "metadata": {},
   "outputs": [],
   "source": [
    "df = df[~df.index.isin(idx)]\n",
    "\n",
    "df = df[df['user']!='elonmusk']"
   ]
  },
  {
   "cell_type": "code",
   "execution_count": 57,
   "metadata": {},
   "outputs": [],
   "source": [
    "import numpy as np"
   ]
  },
  {
   "cell_type": "code",
   "execution_count": 59,
   "metadata": {},
   "outputs": [],
   "source": [
    "glove_embeddings = np.load('glove.840B.300d.pkl', allow_pickle=True)\n"
   ]
  },
  {
   "cell_type": "code",
   "execution_count": 62,
   "metadata": {},
   "outputs": [],
   "source": [
    "import operator"
   ]
  },
  {
   "cell_type": "code",
   "execution_count": 60,
   "metadata": {},
   "outputs": [],
   "source": [
    "def build_vocab(X):\n",
    "    tweets = X.apply(lambda s: s.split()).values\n",
    "    vocab = {}\n",
    "    \n",
    "    for tweet in tweets:\n",
    "        for word in tweet:\n",
    "            if vocab.get(word, ''):\n",
    "                vocab[word] += 1\n",
    "            else:\n",
    "                vocab[word] = 1\n",
    "    return vocab\n",
    "\n",
    "\n",
    "def check_embeddings_coverage(X, embeddings):\n",
    "    vocab = build_vocab(X)\n",
    "    covered = {}\n",
    "    oov = {}\n",
    "    n_covered = 0\n",
    "    n_oov = 0\n",
    "    \n",
    "    for word in vocab:\n",
    "        try:\n",
    "            covered[word] = embeddings[word]\n",
    "            n_covered += vocab[word]\n",
    "        except:\n",
    "            oov[word] = vocab[word]\n",
    "            n_oov += vocab[word]\n",
    "    \n",
    "    vocab_coverage = len(covered) / len(vocab)\n",
    "    \n",
    "    text_coverage = (n_covered / (n_covered + n_oov))\n",
    "    \n",
    "    sorted_oov = sorted(oov.items(), key=operator.itemgetter(1))[::-1]\n",
    "    \n",
    "    return sorted_oov, vocab_coverage, text_coverage"
   ]
  },
  {
   "cell_type": "code",
   "execution_count": 63,
   "metadata": {},
   "outputs": [],
   "source": [
    "glove_oov, glove_vocab_coverage, glove_text_coverage = check_embeddings_coverage(df['tweet'], glove_embeddings)"
   ]
  },
  {
   "cell_type": "code",
   "execution_count": 64,
   "metadata": {},
   "outputs": [
    {
     "data": {
      "text/plain": [
       "9872"
      ]
     },
     "execution_count": 64,
     "metadata": {},
     "output_type": "execute_result"
    }
   ],
   "source": [
    "len(glove_oov)"
   ]
  },
  {
   "cell_type": "code",
   "execution_count": 65,
   "metadata": {},
   "outputs": [
    {
     "data": {
      "text/plain": [
       "5778    Everybody knew this was coming.. Nobody surprised. I’ve been speaking on this BS my entire career.. Power To The Pe…\n",
       "2822                    Been trying to connect with Master P and Baby I’ve always felt they understood how to be independent\n",
       "778     Joe Biden called police “The Enemy,” and vilified them as a racist, oppressive force. The rhetoric of Joe Biden and…\n",
       "5706                                                                                                 Played it and loved it.\n",
       "6565                                                                                                                   Queen\n",
       "                                                                ...                                                         \n",
       "3163     I really appreciate this dialogue with John Legend because I'm actually very empathetic. Im still the kid from the…\n",
       "1828    Trump lied to the American people and now over 200,000 people are dead. And in the middle of a pandemic, he's tryin…\n",
       "2423                                                                                                   Righteous indignation\n",
       "1744                                                                          Senator Chris Murphy On The Violence Inside Us\n",
       "6202               Lol.. F these people… They need to worry about their lives.. lol We ain't talking bout their kids.. F em.\n",
       "Name: tweet, Length: 7527, dtype: object"
      ]
     },
     "execution_count": 65,
     "metadata": {},
     "output_type": "execute_result"
    }
   ],
   "source": [
    "df['tweet']"
   ]
  },
  {
   "cell_type": "code",
   "execution_count": 67,
   "metadata": {},
   "outputs": [
    {
     "data": {
      "text/plain": [
       "0.548646671543526"
      ]
     },
     "execution_count": 67,
     "metadata": {},
     "output_type": "execute_result"
    }
   ],
   "source": [
    "glove_vocab_coverage"
   ]
  },
  {
   "cell_type": "code",
   "execution_count": 68,
   "metadata": {},
   "outputs": [
    {
     "data": {
      "text/plain": [
       "0.8246077317530015"
      ]
     },
     "execution_count": 68,
     "metadata": {},
     "output_type": "execute_result"
    }
   ],
   "source": [
    "glove_text_coverage"
   ]
  },
  {
   "cell_type": "code",
   "execution_count": 69,
   "metadata": {},
   "outputs": [
    {
     "data": {
      "text/plain": [
       "('I’m', 387)"
      ]
     },
     "execution_count": 69,
     "metadata": {},
     "output_type": "execute_result"
    }
   ],
   "source": [
    "glove_oov[0]"
   ]
  },
  {
   "cell_type": "code",
   "execution_count": 70,
   "metadata": {},
   "outputs": [
    {
     "data": {
      "text/plain": [
       "('don’t', 226)"
      ]
     },
     "execution_count": 70,
     "metadata": {},
     "output_type": "execute_result"
    }
   ],
   "source": [
    "glove_oov[1]"
   ]
  },
  {
   "cell_type": "code",
   "execution_count": 104,
   "metadata": {},
   "outputs": [],
   "source": [
    "sample = glove_oov[2][0]"
   ]
  },
  {
   "cell_type": "code",
   "execution_count": 199,
   "metadata": {},
   "outputs": [
    {
     "data": {
      "text/plain": [
       "8220"
      ]
     },
     "execution_count": 199,
     "metadata": {},
     "output_type": "execute_result"
    }
   ],
   "source": [
    "ord(\"“\")"
   ]
  },
  {
   "cell_type": "code",
   "execution_count": 107,
   "metadata": {},
   "outputs": [],
   "source": [
    "sample = re.sub(chr(8217), \"'\", sample)"
   ]
  },
  {
   "cell_type": "code",
   "execution_count": 108,
   "metadata": {},
   "outputs": [
    {
     "data": {
      "text/plain": [
       "\"it's\""
      ]
     },
     "execution_count": 108,
     "metadata": {},
     "output_type": "execute_result"
    }
   ],
   "source": [
    "sample"
   ]
  },
  {
   "cell_type": "code",
   "execution_count": 73,
   "metadata": {},
   "outputs": [],
   "source": [
    "with open('contraction_dict.pkl', 'rb') as file:\n",
    "    contractions_dict = pickle.load(file)"
   ]
  },
  {
   "cell_type": "code",
   "execution_count": 205,
   "metadata": {},
   "outputs": [
    {
     "data": {
      "text/plain": [
       "8221"
      ]
     },
     "execution_count": 205,
     "metadata": {},
     "output_type": "execute_result"
    }
   ],
   "source": [
    "ord(\"”\")"
   ]
  },
  {
   "cell_type": "code",
   "execution_count": 251,
   "metadata": {},
   "outputs": [],
   "source": [
    "def contraction_expander(text):\n",
    "    \n",
    "    text = re.sub(chr(8217), \"'\", text)\n",
    "    text = re.sub(chr(8216), \"'\", text)    \n",
    "    contractions_re = re.compile('(%s)' % '|'.join(contractions_dict.keys()))\n",
    "    def replace(match):\n",
    "        return contractions_dict[match.group(0)]\n",
    "    return contractions_re.sub(replace, text)\n",
    "\n",
    "def char_entity_references(text):\n",
    "    text = re.sub(r\"&gt;\", \">\", text)\n",
    "    text = re.sub(r\"&lt;\", \"<\", text)\n",
    "    return re.sub(r\"&amp;\", \"&\", text)\n",
    "\n",
    "def separate_punctuations(text):\n",
    "    text = re.sub(chr(8230), \"...\", text)\n",
    "    text = re.sub(chr(8220), '\"', text)\n",
    "    text = re.sub(chr(8221), '\"', text)\n",
    "    text = re.sub(chr(8216), \"'\", text)\n",
    "    text = re.sub('~', 'around ', text)\n",
    "    punctuations = '@#!?+&*[]-%.:/();$=><|{}^,\"—' + \"'`\"\n",
    "    for p in punctuations:\n",
    "        text = text.replace(p, f' {p} ')\n",
    "\n",
    "    text = text.replace(\" .  .  .\",' ...')\n",
    "    if \" . . . \" not in text:\n",
    "        text = text.replace(\" .  .\", ' ...')\n",
    "    return text\n"
   ]
  },
  {
   "cell_type": "code",
   "execution_count": 176,
   "metadata": {},
   "outputs": [],
   "source": [
    "import demoji"
   ]
  },
  {
   "cell_type": "code",
   "execution_count": 215,
   "metadata": {},
   "outputs": [],
   "source": [
    "def replace_emojis(text):\n",
    "    skin_tones = [\"Light Skin Tone\", \"Medium-Light Skin Tone\", \"Medium Skin Tone\", \"Medium-Dark Skin Tone\", 'Dark Skin Tone']\n",
    "    skin_tones = [sk.lower() for sk in skin_tones]\n",
    "    text = demoji.replace_with_desc(text, sep=\" \")\n",
    "    for sk in skin_tones:\n",
    "        text = re.sub(sk, \"\", text)\n",
    "    return text"
   ]
  },
  {
   "cell_type": "code",
   "execution_count": 114,
   "metadata": {},
   "outputs": [],
   "source": [
    "import re"
   ]
  },
  {
   "cell_type": "code",
   "execution_count": 269,
   "metadata": {},
   "outputs": [],
   "source": [
    "df['cleaner_tweet'] = df['tweet'].apply(contraction_expander)\n",
    "df['cleaner_tweet'] = df['cleaner_tweet'].apply(char_entity_references)\n",
    "df['cleaner_tweet'] = df['cleaner_tweet'].apply(replace_emojis)\n",
    "df['cleaner_tweet'] = df['cleaner_tweet'].apply(separate_punctuations)\n",
    "df['cleaner_tweet'] = df['cleaner_tweet'].apply(clean_hashtags_mentions)\n"
   ]
  },
  {
   "cell_type": "code",
   "execution_count": 98,
   "metadata": {},
   "outputs": [],
   "source": [
    "for text in df['cleaner_tweet']:\n",
    "    if \"I'm\" in text:\n",
    "        print(text)\n",
    "df.to_csv()"
   ]
  },
  {
   "cell_type": "code",
   "execution_count": 270,
   "metadata": {},
   "outputs": [],
   "source": [
    "def build_vocab(X):\n",
    "    tweets = X.apply(lambda s: s.split()).values\n",
    "    vocab = {}\n",
    "    \n",
    "    for tweet in tweets:\n",
    "        for word in tweet:\n",
    "            if vocab.get(word, ''):\n",
    "                vocab[word] += 1\n",
    "            else:\n",
    "                vocab[word] = 1\n",
    "    return vocab\n",
    "\n",
    "\n",
    "def check_embeddings_coverage(X, embeddings):\n",
    "    vocab = build_vocab(X)\n",
    "    covered = {}\n",
    "    oov = {}\n",
    "    n_covered = 0\n",
    "    n_oov = 0\n",
    "    \n",
    "    for word in vocab:\n",
    "        try:\n",
    "            covered[word] = embeddings[word]\n",
    "            n_covered += vocab[word]\n",
    "        except:\n",
    "            oov[word] = vocab[word]\n",
    "            n_oov += vocab[word]\n",
    "    \n",
    "    vocab_coverage = len(covered) / len(vocab)\n",
    "    \n",
    "    text_coverage = (n_covered / (n_covered + n_oov))\n",
    "    \n",
    "    sorted_oov = sorted(oov.items(), key=operator.itemgetter(1))[::-1]\n",
    "    \n",
    "    return sorted_oov, vocab_coverage, text_coverage\n",
    "\n",
    "glove_oov, glove_vocab_coverage, glove_text_coverage = check_embeddings_coverage(df['cleaner_tweet'], glove_embeddings)\n"
   ]
  },
  {
   "cell_type": "code",
   "execution_count": 271,
   "metadata": {},
   "outputs": [
    {
     "data": {
      "text/plain": [
       "204"
      ]
     },
     "execution_count": 271,
     "metadata": {},
     "output_type": "execute_result"
    }
   ],
   "source": [
    "len(glove_oov)"
   ]
  },
  {
   "cell_type": "code",
   "execution_count": 272,
   "metadata": {},
   "outputs": [
    {
     "data": {
      "text/plain": [
       "0.9837915143810583"
      ]
     },
     "execution_count": 272,
     "metadata": {},
     "output_type": "execute_result"
    }
   ],
   "source": [
    "glove_vocab_coverage"
   ]
  },
  {
   "cell_type": "code",
   "execution_count": 273,
   "metadata": {},
   "outputs": [
    {
     "data": {
      "text/plain": [
       "0.996798158215481"
      ]
     },
     "execution_count": 273,
     "metadata": {},
     "output_type": "execute_result"
    }
   ],
   "source": [
    "glove_text_coverage"
   ]
  },
  {
   "cell_type": "code",
   "execution_count": 274,
   "metadata": {},
   "outputs": [
    {
     "name": "stdout",
     "output_type": "stream",
     "text": [
      "YZY\n",
      "Honestlyy\n",
      "infrastructurere\n",
      "Amendmentnt\n",
      "Anarchyts\n",
      "incompetenttent\n",
      "TrumpKnew\n",
      "disagreementree\n",
      "Dumbfucks\n",
      "⁦⁩\n",
      "Convention2020\n",
      "LEVELY\n",
      "TOMORROWOW\n",
      "happinessss\n",
      "Klitina\n",
      "YANDHI\n",
      "Democraty\n",
      "suppressionon\n",
      "Recop\n",
      "BOLLORE\n",
      "AMENDMENTT\n",
      "Uuuum\n",
      "WineO\n",
      "NoRA\n",
      "incompetenttence\n",
      "Insteadd\n",
      "BALEX\n",
      "2020ToSaveAmerica\n",
      "Hopefullylly\n",
      "Investigationon\n",
      "MAURADE\n",
      "unacce\n",
      "VALORANT\n",
      "IPhon\n",
      "FNTS\n",
      "AdvanedGame2020\n",
      "Manaaan\n",
      "disagreementreed\n",
      "XPSR\n",
      "TURRELLIENS\n",
      "LESM\n",
      "McPeePee\n",
      "AbEx\n",
      "Satalit\n",
      "FUNCTIONARY\n",
      "Bognet\n",
      "Rechnoy\n",
      "PLESSE\n",
      "disagreementreement\n",
      "Indy5OO\n",
      "Virus_19\n",
      "allм\n",
      "Можbut\n",
      "BSn\n",
      "NMRLS\n",
      "️\n",
      "822K\n",
      "constituentsts\n",
      "Puyfontaine\n",
      "اند\n",
      "شده\n",
      "تظاanyات\n",
      "کردن\n",
      "ایران\n",
      "نفر\n",
      "condescendingg\n",
      "Hundr\n",
      "paraso\n",
      "Chalamet\n",
      "Boteros\n",
      "particulatel\n",
      "2020Landslide\n",
      "Mucarsel\n",
      "LEZGO\n",
      "Patrome\n",
      "Pushas\n",
      "malnourishedd\n",
      "Vindman\n",
      "particulatelar\n",
      "buscaron\n",
      "midwit\n",
      "grandpaarents\n",
      "Kushners\n",
      "CMNG\n",
      "Afkarai\n",
      "preconditionn\n",
      "Rebillet\n",
      "Yandhi\n",
      "simping\n",
      "SLDZ\n",
      "Virusー19\n",
      "DOLEMITE\n",
      "cowor\n",
      "clarif\n",
      "bewildermentnt\n",
      "Houllebecq\n",
      "Klacik\n",
      "CHNZ\n",
      "Netflixlix\n",
      "GA09\n",
      "WRENCHING\n",
      "LethalWeaponVideo\n",
      "Croatianan\n",
      "venmo\n",
      "CMSTORE\n",
      "mincy\n",
      "bleepity\n",
      "Noreastern\n",
      "Glossier\n",
      "Gutiér\n",
      "reconstructiont\n",
      "conectaban\n",
      "Yeya\n",
      "Yzy\n",
      "VirusQuarantine\n",
      "Virus19\n",
      "campaigningg\n",
      "LA03\n",
      "FInalLevelTwitterGang\n",
      "manlet\n",
      "USAF73\n",
      "FLTG2020\n",
      "SZN\n",
      "MN07\n",
      "momsforbiden\n",
      "Garced\n",
      "atically\n",
      "Telfar\n",
      "Respe\n",
      "suppressionng\n",
      "MMBR\n",
      "abnegating\n",
      "FLTGs\n",
      "preexistingg\n",
      "MOGOV\n",
      "unsubstantive\n",
      "Bolsnaro\n",
      "Royere\n",
      "Royeres\n",
      "bimbofied\n",
      "succederà\n",
      "LeTesha\n",
      "CaptainCorona\n",
      "upli\n",
      "yaezeeeee\n",
      "MNOP\n",
      "Linnetz\n",
      "BSKTBL\n",
      "50409\n",
      "￼\n",
      "Quavo\n",
      "swts\n",
      "stvn\n",
      "trssr\n",
      "yzy\n",
      "brclt\n",
      "tkhsh\n",
      "Minissi\n",
      "Jankowicz\n",
      "RIFKIND\n",
      "wheneverer\n",
      "HOBOSEXUAL\n",
      "600LT\n",
      "LAQUAN\n",
      "Clownsass\n",
      "GunFu\n",
      "⁦⁦⁩\n",
      "YEEZYS\n",
      "RileyGale\n",
      "realignmentt\n",
      "Yammys\n",
      "Что\n",
      "Meriedith\n",
      "TwitterNeedsEdit\n",
      "overhypes\n",
      "technofetishists\n",
      "MOWALOLA\n",
      "wrongthink\n",
      "AB732\n",
      "Enfor\n",
      "PAWGs\n",
      "proportio\n",
      "RidinSuperDirty\n",
      "pervasiv\n",
      "positionism\n",
      "Карабах\n",
      "седой\n",
      "тобою\n",
      "Мы\n",
      "горах\n",
      "этих\n",
      "силы\n",
      "место\n",
      "Здесь\n",
      "сказал\n",
      "сегодня\n",
      "дядя\n",
      "мой\n",
      "как\n",
      "Вот\n",
      "Explic\n",
      "SB731\n",
      "metaargument\n",
      "Pardison\n"
     ]
    }
   ],
   "source": [
    "first = 0\n",
    "for word, frequency in glove_oov:\n",
    "    print(word)\n",
    "    "
   ]
  },
  {
   "cell_type": "markdown",
   "metadata": {},
   "source": []
  },
  {
   "cell_type": "code",
   "execution_count": 275,
   "metadata": {},
   "outputs": [],
   "source": [
    "def clean_hashtags_mentions(text):\n",
    "    text = re.sub(r\"VoteHimOut2020\", \"Vote Him Out 2020\", text)\n",
    "    text = re.sub(r\"WhosTheBoss\", \"Who is the boss\", text)\n",
    "    text = re.sub(r\"WhoDoesTrumpOwe\", \"Who does Trump owe\", text)\n",
    "    text = re.sub(r\"CarnivoreBC2020\", \"Carnivore of British Columbia 2020\", text)\n",
    "    text = re.sub(r\"menchies\", \"mentions\", text)\n",
    "    text = re.sub(r\"PARABELLUM\", \"semiautomatic pistol\", text)\n",
    "    text = re.sub(r\"TheIceFamily\", \"The Ice Family\", text)\n",
    "    text = re.sub(r\"VoteEarly\", \"Vote Early\", text)\n",
    "    text = re.sub(r\"wegotlove\", \"we got love\", text)\n",
    "    text = re.sub(r\"OBiden\", \"Obama Biden\", text)\n",
    "    text = re.sub(r\"ThenTheyPointTheFingerAtYou\", \"Then They Point The Finger At You\", text)\n",
    "    text = re.sub(r\"BattleRap\", \"Battle Rap\", text)\n",
    "    text = re.sub(r\"NationalVoterRegistrationDay\", \"National Voter Registration Day\", text)\n",
    "    text = re.sub(r\"Bitchass\", \"bitch ass\", text)\n",
    "    text = re.sub(r\"BeatDown\", \"beat down\", text)\n",
    "    text = re.sub(r\"TeamBiden\", \"Team Biden\", text)\n",
    "    text = re.sub(r\"WithBidenWeCan\", \"With Biden We Can\", text)\n",
    "    text = re.sub(r\"ClassicMaterial\", \"Classic Material\", text)\n",
    "    text = re.sub(r\"DefundThePolice\", \"Defund The Police\", text)\n",
    "    text = re.sub(r\"STRENGTHENETH\", \"STRENGTHEN\", text)\n",
    "    text = re.sub(r\"COVID__19\", \"Corona Virus 2019\", text)\n",
    "    text = re.sub(r\"SHOxBET\", \"Show Time and Black Entertainment\", text)\n",
    "    text = re.sub(r'Uuum', \"Um\", text)\n",
    "    text = re.sub(r\"OwntheVote2020\", \"Own The Vote 2020\", text)\n",
    "    text = re.sub(r\"CrackHouse\", \"Crack House\", text)\n",
    "    text = re.sub(r\"ConspiracyQuacks\", \"Conspiracy Quacks\", text)\n",
    "    text = re.sub(r\"RNCFactCheck\", \"Republican National Convention Fack Check\", text)\n",
    "    text = re.sub(r\"DemocraticConvention\", \"Democratic Convention\", text)\n",
    "    text = re.sub(r\"BODYCOUNT\", \"BODY COUNT\", text)\n",
    "    text = re.sub(r\"ImVotingForJoe\", \"I Am Voting For Joe\", text)\n",
    "    text = re.sub(r\"smōl\", \"extremely small\", text)\n",
    "    text = re.sub(r\"FinalLevelTwitterGang\", \"Final Level Twitter Gang\", text)\n",
    "    text = re.sub(r\"CORONAVIRUS\", \"CORONA VIRUS\", text)\n",
    "    text = re.sub(r\"Enforceme\", \"Enforce me\", text)\n",
    "    text = re.sub(r\"Trumpchaos\", \"Trump chaos\", text)\n",
    "    text = re.sub(r\"puertorriqueños\", \"Puerto Ricans\", text)\n",
    "    text = re.sub(r\"TutuolaTuesday\", \"Tutuola Tuesday\", text)\n",
    "    text = re.sub(r\"SaveSocialSecurity\", \"Save Social Security\", text)\n",
    "    text = re.sub(r\"BidenWonTheDebate\", \"Biden Won The Debate\", text)\n",
    "    text = re.sub(r\"BidenHarrisToSaveAmerica\", \"Biden Harris To Save America\", text)\n",
    "    text = re.sub(r\"BidenTownHall\", \"Biden Townhall\", text)\n",
    "    text = re.sub(r\"HITBOY\", \"HIT BOY\", text)\n",
    "    text = re.sub(r\"EasterEggs\", \"Easter Eggs\", text)\n",
    "    text = re.sub(r\"سه\", \"three\", text)\n",
    "    text = re.sub(r\"اعدام\", \"Execution\", text)\n",
    "    text = re.sub(r\"Latinx\", \"Hispanic\", text)\n",
    "    text = re.sub(r\"incel\", \"involuntarily celibate\", text)\n",
    "    text = re.sub(r\"RNCConvention\", \"Republican National Convention\", text)\n",
    "    text = re.sub(r\"все\", \"all\", text)\n",
    "    text = re.sub(r\"FinalLevel\", \"Final Level\", text)\n",
    "    text = re.sub(r\"TooBigToRig\", \"Too Big To Rig\", text)\n",
    "    text = re.sub(r\"VPDebate\", \"Vice President Debate\", text)\n",
    "    text = re.sub(r\"MakeAmericaGreatAgain\", \"Make America Great Again\", text)\n",
    "    text = re.sub(r'ICEMFT', \"Ice Motherfucking Tea\", text)\n",
    "    text = re.sub(r\"CarStuff\", \"Car Stuff\", text)\n",
    "    text = re.sub(r\"AdvancedGame\", \"Advanced Game\", text)\n",
    "    text = re.sub(r\"BlackLivesMatter\", \"Black Lives Matter\", text)\n",
    "    text = re.sub(r\"BidenCalm\", \"Biden Calm\", text)\n",
    "    text = re.sub(r\"BidenHarris2020\", \"Biden Harris 2020\", text)\n",
    "    text = re.sub(r\"TrumpLiesAmericansDie\", \"Trump Lies Americans Die\", text)\n",
    "    text = re.sub(r\"InIceColdBlood\", \"In Ice Cold Blood\", text)\n",
    "    text = re.sub(r\"در\", \"at\", text)\n",
    "    text = re.sub(r\"SVU22\", \"Special Victims Unit Season 22\", text)\n",
    "    text = re.sub(r\"TrumpPenceFailure\", \"Trump Pence Failure\", text)\n",
    "    text = re.sub(r\"ThrowBackThursday\", \"Throwback Thursday\", text)\n",
    "    text = re.sub(r\"Bitchboy\", \"Bitch boy\", text)\n",
    "    text = re.sub(r\"BuildBackBetter\", \"Build Back Better\", text)\n",
    "    text = re.sub(r\"ObamaBiden\", \"Obama Biden\", text)\n",
    "    text = re.sub(r\"Tfw\", \"Those feel when\", text)\n",
    "    text = re.sub(r\"COVID19\", \"Corona Virus 2019\", text)\n",
    "    text = re.sub(r\"TeamJoe\", \"Team Joe\", text)\n",
    "    text = re.sub(r\"Cybertruck\", \"Cyber truck\", text)\n",
    "    text = re.sub(r\"2020VISION\", \"2020 VISION\", text)\n",
    "    text = re.sub(r\"WESTDAYEVER\", \"WEST DAY EVER\", text)\n",
    "    text = re.sub(r\"UNFUCKWITHABLE\", \"CANNOT FUCK WITH ME\", text)\n",
    "    text = re.sub(r\"QuarantineLife\", \"Quarantine Life\", text)\n",
    "    text = re.sub(r\"covid|Covid19|Covid|COVID\", \"Corona Virus\", text)\n",
    "    text = re.sub(r\"Debates2020\", \"Debates 2020\", text)\n",
    "    text = re.sub(r\"DemConvention\", \"Democratic Convention\", text)\n",
    "    text = re.sub(r\"TrumpKnewVoteBlue\", \"Trump Knew Vote Blue\", text)\n",
    "    text = re.sub(r\"Clownass\", \"Clown Ass\", text)\n",
    "    text = re.sub(r\"TrumpChaos\", \"Trump Chaos\", text)\n",
    "    text = re.sub(r\"BodyCount\", \"Body Count\", text)\n",
    "    text = re.sub(r\"moovin\", \"moving\", text)\n",
    "    text = re.sub(r\"WeHaveHerBack\", \"We Have Her Back\", text)\n",
    "    text = re.sub(r\"DontLookAway\", \"Do Not Look Away\", text)\n",
    "    text = re.sub(r\"cucked\", \"cuckolded\", text)\n",
    "    text = re.sub(r\"BidenWon\", \"Biden Won\", text)\n",
    "    text = re.sub(r\"ChinaVirus\", \"China Virus\", text)\n",
    "    text = re.sub(r\"sickomode\", \"sicko mode\", text)\n",
    "    text = re.sub(r\"UNfollow\", \"Do not follow\", text)\n",
    "    text = re.sub(r\"BidenHarris2020ToSaveAmerica\", \"Biden Harris 2020 To Save America\", text)\n",
    "    text = re.sub(r\"Substack\", \"blog\", text)\n",
    "    text = re.sub(r\"9Thousand\", \"Nine Thousand\", text)\n",
    "    text = re.sub(r\"MomsForBiden\", \"Moms For Biden\", text)\n",
    "    text = re.sub(r\"Uuuuuum\", \"Um\", text)\n",
    "    text = re.sub(r\"surgic\", \"surgical\", text)\n",
    "    text = re.sub(r\"QuarantineLife\", \"Quarantine Life\", text)\n",
    "    text = re.sub(r\"SheGotItRight\", \"She Got It Right\", text)\n",
    "    text = re.sub(r\"EditButton\", \"Edit Button\", text)\n",
    "    text = re.sub(r\"TheOriginalConstitution\", \"The Original Constitution\", text)\n",
    "    text = re.sub(r\"BlueWave2020\", \"Blue Wave 2020\", text)\n",
    "    text = re.sub(r\"Hasidics\", \"Hasidic\", text)\n",
    "    text = re.sub(r\"道場|dōjō\", \"Dojo\", text)\n",
    "    text = re.sub(r\"doppelbanger\", \"doppelganger\", text)\n",
    "    text = re.sub(r\"droneship\", \"drone ship\", text)\n",
    "    text = re.sub(r\"TrumpInsecurity\", \"Trump Insecurity\", text)\n",
    "    text = re.sub(r\"EscapeTraining\", \"Escape Training\", text)\n",
    "    text = re.sub(r\"AdvancedGame2020\", \"Advanced Game 2020\", text)\n",
    "    text = re.sub(r\"RNC2020\", \"Republican National Convention 2020\", text)\n",
    "    text = re.sub(r\"Democrac\", \"Democrat\", text)\n",
    "    text = re.sub(r\"LameStream\", \"Mainstream\", text)\n",
    "    text = re.sub(r\"smea\", \"\", text)\n",
    "    text = re.sub(r\"famleeeeee\", \"family\", text)\n",
    "    text = re.sub(r\"SHLTR\", \"SHELTER\", text)\n",
    "    text = re.sub(r\"CLTHNG\", \"CLOTHING\", text)\n",
    "    text = re.sub(r\"UNFUCKWITH\", \"CANNOT FUCK WITH\", text)\n",
    "    text = re.sub(r\"Wikigenius\", \"Wikipedia genius\", text)\n",
    "    text = re.sub(r\"AMENDMEN\", \"AMENDMENT\", text)\n",
    "    text = re.sub(r\"trumppencefailure\", \"Trump Pence Failure\", text)\n",
    "    text = re.sub(r\"YouAreNext2022\", \"You Are Next 2022\", text)\n",
    "    text = re.sub(r\"BotAlert\", \"Bot Alert\", text)\n",
    "    text = re.sub(r\"OurCourt\", \"Our Court\", text)\n",
    "    text = re.sub(r\"Truckers4Trump\", \"Truckers For Trump\", text)\n",
    "    text = re.sub(r\"vote￼\", \"vote\", text)\n",
    "    text = re.sub(r\"Unironically\", \"Not ironically\", text)\n",
    "    text = re.sub(r\"Vibbbe\", \"Vibe\", text)\n",
    "    text = re.sub(r\"Immigratio\", \"Immigration\", text)\n",
    "    text = re.sub(r\"DumbFucks\", \"Dumb Fucks\", text)\n",
    "    text = re.sub(r\"grandp\", \"grandpa\", text)\n",
    "    text = re.sub(r\"DNC2020\", \"Democratic National Convention 2020\", text)\n",
    "    text = re.sub(r\"KeepItG\", \"Keep It Gangster\", text)\n",
    "    text = re.sub(r\"TOMORR\", \"TOMORROW\", text)\n",
    "    text = re.sub(r\"QueensBridge\", \"Queens Bridge\", text)\n",
    "    text = re.sub(r\"10gs\", \"ten thousand dollars\", text)\n",
    "    text = re.sub(r\"FiveFingerDeathPunch\", \"Five Finger Death Punch\", text)\n",
    "    text = re.sub(r\"2gthr\", \"together\", text)\n",
    "    text = re.sub(r\"AHole\", \"Asshole\", text)\n",
    "    text = re.sub(r\"LoveTip\", \"Love Tip\", text)\n",
    "    text = re.sub(r\"welI\", \"well\", text)\n",
    "    text = re.sub(r\"MakeTheLootLoop\", \"Make The Loot Loop\", text)\n",
    "    text = re.sub(r\"preconditio\", \"precondition\", text)\n",
    "    text = re.sub(r\"Hazl\", \"Hazel\", text)\n",
    "    text = re.sub(r\"theaster\", \"easter\", text)\n",
    "    text = re.sub(r\"permemently\", \"permanently\", text)\n",
    "    text = re.sub(r\"disssing\", \"dissing\", text)\n",
    "    text = re.sub(r\"Kantbot\", \"Kant Bot\", text)\n",
    "    text = re.sub(r\"LeGend\", \"legend\", text)\n",
    "    text = re.sub(r\"GetoBoys\", \"Get To Boys\", text)\n",
    "    text = re.sub(r\"ChrisRock\", \"Chris Rock\", text)\n",
    "    text = re.sub(r\"TRUMPCHAOS\", \"TRUMP CHAOS\", text)\n",
    "    text = re.sub(r\"Hopefu\", \"Hopefully\", text)\n",
    "    text = re.sub(r\"Covid_19\", \"Corona Virus 2019\", text)\n",
    "    text = re.sub(r\"GeorgeFloyd\", \"George Floyd\", text)\n",
    "    text = re.sub(r\"Мама\", \"Mama\", text)\n",
    "    text = re.sub(r\"всем\", 'all', text)\n",
    "    text = re.sub(r\"но\", \"but\", text)\n",
    "    text = re.sub(r\"объяснить\", 'explain', text)\n",
    "    text = re.sub(r\"Можно\", 'can', text)\n",
    "    text = re.sub(r'HoodPolitics', \"Hood Politics\", text)\n",
    "    text = re.sub(r'SVU20', 'Special Victims Unit', text)\n",
    "    text = re.sub(r\"entour\", \"surroundings\", text)\n",
    "    text = re.sub(r\"OUARANTINE\", \"QUARANTINE\", text)\n",
    "    text = re.sub(r\"incompe\", \"incompetent\", text)\n",
    "    text = re.sub(r\"Tmills\", \"Travis Mills\", text)\n",
    "    text = re.sub(r\"RoshHashanah\", \"Rosh Hashanah\", text)\n",
    "    text = re.sub(r\"822k\", \"822000\", text)\n",
    "    text = re.sub(r\"WomensEqualityDay\", \"Womens Equality Day\", text)\n",
    "    text = re.sub(r\"suppressi\", \"suppression\", text)\n",
    "    text = re.sub(r\"TrumpsGestapo\", \"Trump Gestapo\", text)\n",
    "    text = re.sub(r\"incels\", \"involuntary celibates\", text)\n",
    "    text = re.sub(r\"APROVED\", \"APPROVED\", text)\n",
    "    text = re.sub(r\"ModernWarfare\", \"Modern Warfare\", text)\n",
    "    text = re.sub(r\"comeba\", \"come back\", text)\n",
    "    text = re.sub(r\"7for7\", \"seven for seven\", text)\n",
    "    text = re.sub(r\"ethnonarcissism\", \"ethnic narcissism\", text)\n",
    "    text = re.sub(r\"wokeness\", \"being woke\", text)\n",
    "    text = re.sub(r\"DoggPoun\", \"Dog Pound\", text)\n",
    "    text = re.sub(r\"DonaldTrumpStandsFor\", \"Donald Trump Stands For\", text)\n",
    "    text = re.sub(r\"BadAzz\", \"Badass\", text)\n",
    "    text = re.sub(r\"RestInPeace\", \"Rest In Peace\", text)\n",
    "    text = re.sub(r\"BC2020\", \"British Columbia\", text)\n",
    "    text = re.sub(r\"infrastructu\", \"infrastructure\", text)\n",
    "    text = re.sub(r\"FaceApp\", \"Face App\", text)\n",
    "    text = re.sub(r\"100DaysToGo\", \"100 Days To Go\", text)\n",
    "    text = re.sub(r\"این\", \"this\", text)\n",
    "    text = re.sub(r\"است\", \"is\", text)\n",
    "    text = re.sub(r\"انتظار\", \"Expectation\", text)\n",
    "    text = re.sub(r\"قابل\", \"possible\", text)\n",
    "    text = re.sub(r\"لحظه\", \"the moment\", text)\n",
    "    text = re.sub(r\"هر\", \"any\", text)\n",
    "    text = re.sub(r\"آنها\", \"they\", text)\n",
    "    text = re.sub(r\"مرگ\", \"death\", text)\n",
    "    text = re.sub(r\"به\", \"to the\", text)\n",
    "    text = re.sub(r\"محکوم\", \"convicted\", text)\n",
    "    text = re.sub(r\"تظاهرات\", \"demonstrations\", text)\n",
    "    text = re.sub(r\"شرکت\", \"Company\", text)\n",
    "    text = re.sub(r\"برای\", \"to\", text)\n",
    "    text = re.sub(r\"Uhhhhhhhhhh\", \"Uh\", text)\n",
    "    text = re.sub(r\"MachineHead\", \"Machine Head\", text)\n",
    "    text = re.sub(r\"TrumpsChaos\", \"Trump Chaos\", text)\n",
    "    text = re.sub(r\"PutinsGOPConvention\", \"Putin Grand Old Party Convention\", text)\n",
    "    text = re.sub(r\"TheInfamous\", \"The Infamous\", text)\n",
    "    text = re.sub(r\"Cybertr\", \"Cyber Truck\", text)\n",
    "    text = re.sub(r\"Factorio\", \"Factory\", text)\n",
    "    text = re.sub(r\"Speedrunning\", \"Speed running\", text)\n",
    "    text = re.sub(r\"Maaaaaaan\", \"Man\", text)\n",
    "    text = re.sub(r\"Croati\", \"Croatian\", text)\n",
    "    text = re.sub(r\"SouthCentralLA\", \"South Central Los Angeles\", text)\n",
    "    text = re.sub(r\"MFnStank\", \"Motherfucking Stank\", text)\n",
    "    text = re.sub(r\"socialdilemma\", \"social dilemma\", text)\n",
    "    text = re.sub(r\"Lesssgoooooooooooo\", \"Let us go\", text)\n",
    "    text = re.sub(r\"IMVotingFor\", \"I Am Voting For\", text)\n",
    "    text = re.sub(r\"Instea\", \"Instead\", text)\n",
    "    text = re.sub(r\"VoteForScience\", \"Vote For Science\", text)\n",
    "    text = re.sub(r\"PromAtThePolls\", \"Prom At The Polls\", text)\n",
    "    text = re.sub(r\"EXACTL\", \"EXACTLY\", text)\n",
    "    text = re.sub(r\"FaceTuned\", \"Face Tuned\", text)\n",
    "    text = re.sub(r\"positionist\", \"position\", text)\n",
    "    text = re.sub(r\"MakeAPlan\", \"Make A Plan\", text)\n",
    "    text = re.sub(r\"TrumpFailure\", \"Trump Failure\", text)\n",
    "    text = re.sub(r\"TrumpViolence\", \"Trump Violence\", text)\n",
    "    text = re.sub(r\"wammin\", \"women\", text)\n",
    "    text = re.sub(r\"TrumpLied200kDied\", \"Trump Lied 200000 Died\", text)\n",
    "    text = re.sub(r\"FathersDay2019\", \"Fathers Day 2019\", text)\n",
    "    text = re.sub(r\"Investigati\", \"Investigation\", text)\n",
    "    text = re.sub(r\"UniteBehindTheScience\", \"Unite Behind The Science\", text)\n",
    "    text = re.sub(r\"Disappo\", \"Disappointed\", text)\n",
    "    text = re.sub(r\"CriticalBeatdown\", \"Critical Beatdown\", text)\n",
    "    text = re.sub(r\"LetsMakeHerstory\", \"Lets Make Her Story\", text)\n",
    "    text = re.sub(r\"WatchWhatYouSay\", \"Watch What You Say\", text)\n",
    "    text = re.sub(r\"FredomOfSpeech\", \"Freedom Of Speech\", text)\n",
    "    text = re.sub(r\"Ballin\\\\Flossin\", \"Balling Flossing\", text)\n",
    "    text = re.sub(r\"HaterTube\", \"Hater tube\", text)\n",
    "    text = re.sub(r\"demcovention\", \"Democratic Convention\", text)\n",
    "    text = re.sub(r'Judgemen', \"Judge\", text)\n",
    "    text = re.sub(r\"systemat\", \"system at\", text)\n",
    "    text = re.sub(r\"SOILD\", 'SOILED', text)\n",
    "    text = re.sub(r\"BLDNG\", \"BUILDING\", text)\n",
    "    text = re.sub(r\"preexistin\", \"preexisting\", text)\n",
    "    text = re.sub(r\"BidenHarris2020Landslide\", \"Biden Harris 2020 Landslide\", text)\n",
    "    text = re.sub(r\"IAmADemocrat\", \"I Am A Democrat\", text)\n",
    "    text = re.sub(r\"accountabily\", \"accountability\", text)\n",
    "    text = re.sub(r\"TrumpBux\", \"Trump Box\", text)\n",
    "    text = re.sub(r\"CopKiller\", \"Cop Killer\", text)\n",
    "    text = re.sub(r\"heroes—\", \"heroes\", text)\n",
    "    text = re.sub(r\"drpimplepopper\", \"Doctor Pimple Popper\", text)\n",
    "    text = re.sub(r\"JWalking\", \"Jay Walking\", text)\n",
    "    text = re.sub(r\"ThePeopleHaveHad\", \"The People Have Had\", text)\n",
    "    text = re.sub(r\"HellYes\", \"Hell Yes\", text)\n",
    "    text = re.sub(r\"FinalLevel\", \"Final Level\", text)\n",
    "    text = re.sub(r\"Lallapalooza\", 'concert', text)\n",
    "    text = re.sub(r\"Anarchis\", \"Anarchy\", text)\n",
    "    text = re.sub(r\"BodyCounts\", \"Body Counts\", text)\n",
    "    text = re.sub(r\"quixo\", \"quixotic\", text)\n",
    "    text = re.sub(r\"HatersOccupation\", \"Haters Occupation\", text)\n",
    "    text = re.sub(r\"LEZO\", \"let us go\", text)\n",
    "    text = re.sub(r\"INDIVIDU\", \"INDIVIDUAL\", text)\n",
    "    text = re.sub(r\"countenan\",\"countenance\", text)\n",
    "    text = re.sub(r\"CLOWNASS\", \"CLOWN ASS\", text)\n",
    "    text = re.sub(r\"SLAYIN\", 'SLAYING', text)\n",
    "    text = re.sub(r\"GOPHypocrites\", \"Grand Old Party Hypocrites\", text)\n",
    "    text = re.sub(r\"teamJOE\", \"Team Joe\", text)\n",
    "    text = re.sub(r\"debates2020\", \"debates 2020\", text)\n",
    "    text = re.sub(r\"whenev\", \"whenever\", text)\n",
    "    text = re.sub(r\"ValentinesDay\", \"Valentines Day\", text)\n",
    "    text = re.sub(r\"BROOOOOOOO\", \"BRO\", text)\n",
    "    text = re.sub(r\"NeverForget\", \"Never Forget\", text)\n",
    "    text = re.sub(r\"BlueWaveSenate\", \"Blue Wave Senate\", text)\n",
    "    text = re.sub(r\"DumbfuckAlert\", \"Dumb fuck Alert\", text)\n",
    "    text = re.sub(r\"HEROESAct\", \"HEROES Act\", text)\n",
    "    text = re.sub(r\"JewishPrivilege\", \"Jewish Privilege\", text)\n",
    "    text = re.sub(r\"happine\", \"happiness\", text)\n",
    "    text = re.sub(r\"WomanMurdered\", \"Woman Murdered\", text)\n",
    "    text = re.sub(r\"DEBATES2020\", \"DEBATES 2020\", text)\n",
    "    text = re.sub(r\"uuuum\", \"um\", text)\n",
    "    text = re.sub(r\"ironyposting\", \"irony posting\", text)\n",
    "    text = re.sub(r\"RepealTheBan\", \"Repeal The Ban\", text)\n",
    "    text = re.sub(r\"NoBanAct\", \"No Ban Act\", text)\n",
    "    text = re.sub(r\"Division2\", \"Division\", text)\n",
    "    text = re.sub(r\"repudia\", \"repudiate\", text)\n",
    "    text = re.sub(r\"DEPENDANTS\", 'DEPENDENTS', text)\n",
    "    text = re.sub(r\"StopSusan\", \"Stop Susan\", text)\n",
    "    text = re.sub(r\"Honestl\", \"Honestly\", text)\n",
    "    text = re.sub(r\"ArtOfRap\", \"Art Of Rap\", text)\n",
    "    text = re.sub(r\"TrumpFailedChallenge\", \"Trump Failed Challenge\", text)\n",
    "    text = re.sub(r\"IwasBrokeAF\", \"I was Broke As Fuck\", text)\n",
    "    text = re.sub(r\"patriotnotpartisan\", \"patriot not partison\", text)\n",
    "    text = re.sub(r\"CourageForThePeople\", \"Courage For The People\", text)\n",
    "    text = re.sub(r\"demconvention\", \"Democratic Convention\", text)\n",
    "    text = re.sub(r\"TENURED\", \"tenure\", text)\n",
    "    text = re.sub(r\"2020Moovin\", \"moving\", text)\n",
    "    text = re.sub(r\"TrumpsTaxReturns\", \"Trumps Tax Returns\", text)\n",
    "    text = re.sub(r\"2CHNZ\", \"Two Chains\", text)\n",
    "    text = re.sub(r\"COVIDー19\", \"Corona Virus\", text)\n",
    "    text = re.sub(r\"memeing\", \"meme\", text)\n",
    "    text = re.sub(r\"Netf\", 'Netflix', text)\n",
    "    text = re.sub(r\"ˈfæʃɪzəm\", \"\", text)\n",
    "    text = re.sub(r\"KamalaForVP\", \"Kamala For Vice President\", text)\n",
    "    text = re.sub(r\"platinu\", \"platinum\", text)\n",
    "    text = re.sub(r\"DonTheCon\", \"Don The Con\", text)\n",
    "    text = re.sub(r\"UUUUUUM\", \"um\", text)\n",
    "    text = re.sub(r\"RACISIM\", \"RACISM\", text)\n",
    "    text = re.sub(r\"LatinosForTrump\", \"Latinos For Trump\", text)\n",
    "    text = re.sub(r\"HowToAlly\", \"How To Ally\", text)\n",
    "    text = re.sub(r\"spinaltap\", \"spinal tap\", text)\n",
    "    text = re.sub(r\"slutshamed\", \"slut shamed\", text)\n",
    "    text = re.sub(r\"DogBallin\", \"Dog Balling\", text)\n",
    "    text = re.sub(r\"shitposter\", \"shit poster\", text)\n",
    "    text = re.sub(r\"RepublicanConvention\", \"Republican Convention\", text)\n",
    "    text = re.sub(r\"TwitterEdit\", \"Twitter Edit\", text)\n",
    "    text = re.sub(r\"DemCast\", \"Democratic Cast\", text)\n",
    "    text = re.sub(r\"OneTrickPhony\", \"One Trick Phony\", text)\n",
    "    text = re.sub(r\"TrumpIsNotLikeYou\", \"Trump Is Not Like You\", text)\n",
    "    text = re.sub(r\"unArmed\", \"unarmed\", text)\n",
    "    text = re.sub(r\"promoing\", \"promotion\", text)\n",
    "    text = re.sub(r\"SOMEBOD\", \"SOMEBODY\", text)\n",
    "    text = re.sub(r\"SHLTRS\", \"SHELTERS\", text)\n",
    "    text = re.sub(r\"constituen\", \"constituents\", text)\n",
    "    text = re.sub(r\"150Thousand\", \"150000\", text)\n",
    "    text = re.sub(r\"LaMelo\", 'La Melo', text)\n",
    "    text = re.sub(r\"PortlandProtest\", \"Portland Protest\", text)\n",
    "    text = re.sub(r\"CarStuff\", \"Car Stuff\", text)\n",
    "    text = re.sub(r\"JusticeForBreonna\", \"Justice For Breonna\", text)\n",
    "    text = re.sub(r\"LiarInChief\", \"Liar In Chief\", text)\n",
    "    text = re.sub(r\"EqualStandardMovie\", \"Equal Standard Movie\", text)\n",
    "    text = re.sub(r\"LethalWeaponMovie\", \"Lethal Weapon Movie\", text)\n",
    "    text = re.sub(r\"Amendme\", \"Amendment\", text)\n",
    "    text = re.sub(r\"BreonnaTalyor\", \"Breonna Taylor\", text)\n",
    "    text = re.sub(r\"microcelebs\", \"micro celebrities\", text)\n",
    "    text = re.sub(r\"campaignin\", \"campaigning\", text)\n",
    "    text = re.sub(r\"AngelaDavis\", \"Angela Davis\", text)\n",
    "    text = re.sub(r\"CourageforthePeople\", \"Courage For The People\", text)\n",
    "    text = re.sub(r\"MasksOnGlovesOff\", \"Masks On Gloves Off\", text)\n",
    "    text = re.sub(r\"Buuuuuuut\", \"but\", text)\n",
    "    text = re.sub(r\"DonJr\", \"Don Jr\", text)\n",
    "    text = re.sub(r\"realignmen\", \"realignment\", text)\n",
    "    text = re.sub(r\"sinist\", \"sinister\", text)\n",
    "    text = re.sub(r\"libcuck\", \"liberal cuckold\", text)\n",
    "    text = re.sub(r\"HustlingBackwards\", \"Hustling Backwards\", text)\n",
    "    text = re.sub(r\"rncFactCheck\", \"Republican National Convention Check\", text)\n",
    "    text = re.sub(r\"RNChaos\", \"Republican National Convention Chaos\", text)\n",
    "    text = re.sub(r\"Ordinar\", \"Ordinary\", text)\n",
    "    text = re.sub(r\"YUGE\", 'HUGE', text)\n",
    "    text = re.sub(r\"OwnTheVote2020\", \"Own The Vote 2020\", text)\n",
    "    text = re.sub(r\"RIGGEDELECTION\", \"RIGGED ELECTION\", text)\n",
    "    text = re.sub(r\"GhettoBoys\", \"Ghetto Boys\", text)\n",
    "    text = re.sub(r\"TooShort\", \"Too Short\", text)\n",
    "    text = re.sub(r\"shitpost\", \"shit post\", text)\n",
    "    text = re.sub(r\"articu\", \"articulate\", text)\n",
    "    text = re.sub(r\"NationalNewJerseyDay\", \"National New Jersey Day\", text)\n",
    "    text = re.sub(r\"VirusQuarantineLife\", \"Virus Quarantine Life\", text)\n",
    "    text = re.sub(r\"ICAFarmville\", \"farm\", text)\n",
    "    text = re.sub(r\"tantr\", \"tantrum\", text)\n",
    "    text = re.sub(r\"faildaughters\", \"fail daughters\", text)\n",
    "    text = re.sub(r\"reconstruc\", \"reconstruction\", text)\n",
    "    text = re.sub(r\"DearMichigan\", \"Dear Michigan\", text)\n",
    "    text = re.sub(r\"BODYCOUNT\", \"BODY COUNT\", text)\n",
    "    text = re.sub(r\"7thDeadlySin\", \"Seventh Deadly Sin\", text)\n",
    "    text = re.sub(r\"covid19\", \"Corona Virus\", text)\n",
    "    text = re.sub(r\"FreeRosa\", \"Free Rosa\", text)\n",
    "    text = re.sub(r\"OnlyFans\", \"Only Fans\", text)\n",
    "    text = re.sub(r\"selflessl\", \"selflessly\", text)\n",
    "    text = re.sub(r\"HillaryKaine2016\", \"Hillary Kaine 2016\", text)\n",
    "    text = re.sub(r\"TwoDollarHoller\", \"Two Dollar Holler\", text)\n",
    "    text = re.sub(r\"DemConvention2020\", \"Democratic Convention 2020\", text)\n",
    "    text = re.sub(r\"PatriotNotPartisan\", \"Patriot Not Partisan\", text)\n",
    "    text = re.sub(r\"bewilderme\", \"bewilderment\", text)\n",
    "    text = re.sub(r\"noooooow\", \"now\", text)\n",
    "    text = re.sub(r\"DrugLords\", \"Drug Lords\", text)\n",
    "    text = re.sub(r\"Lowrided\", \"Low rided\", text)\n",
    "    text = re.sub(r\"Роган\", \"Rogan\", text)\n",
    "    text = re.sub(r\"Джо\", \"Joe\", text)\n",
    "    text = re.sub(r\"FinalLevelTwitterGang\", \"Final Level Twitter Gang\", text)\n",
    "    text = re.sub(r\"oversocialized\", \"over socialized\", text)\n",
    "    text = re.sub(r\"Russiagate\", \"Russia gate\", text)\n",
    "    text = re.sub(r\"Laschposting\", \"Lasch posting\", text)\n",
    "    text = re.sub(r\"IceTalks\", \"Ice Talks\", text)\n",
    "    text = re.sub(r\"shadowbanned\", \"shadow banned\", text)\n",
    "    text = re.sub(r\"Antifragility\", \"Anti fragility\", text)\n",
    "    text = re.sub(r\"TRANSPARENTLY\", \"TRANSPARENT\", text)\n",
    "    text = re.sub(r\"momsforbidden\", \"moms forbidden\", text)\n",
    "    text = re.sub(r\"HateBreed\", \"Hate Breed\", text)\n",
    "    text = re.sub(r\"NewJackHustler\", \"New Jack Hustler\", text)\n",
    "    text = re.sub(r\"throne2\", \"throne\", text)\n",
    "    text = re.sub(r\"CarnivoreBC2020\", \"Carnivore British Columbia\", text)\n",
    "    text = re.sub(r\"FreeThemAllVA\", \"Free Them All\", text)\n",
    "    text = re.sub(r\"DontDeportEver\", \"Do not Deport Ever\", text)\n",
    "    text = re.sub(r\"SellOut\", \"Sell Out\", text)\n",
    "    text = re.sub(r\"ImpeachBillBarr\", \"Impeach Bill Barr\", text)\n",
    "    text = re.sub(r\"crabwalking\", \"crab walking\", text)\n",
    "    text = re.sub(r\"IceMFT\", \"Ice Motherfucking Tea\", text)\n",
    "    text = re.sub(r\"SVU21\", \"Special Victims Unit\", text)\n",
    "    text = re.sub(r\"showtuners\", \"show tuners\", text)\n",
    "    text = re.sub(r\"DickWolf\", \"Dick Wolf\", text)\n",
    "    text = re.sub(r\"UnFinishedBussiness\", \"Unfinished Business\", text)\n",
    "    text = re.sub(r\"понял\", \"got it\", text)\n",
    "    text = re.sub(r\"Миша\", \"Misha\", text)\n",
    "    text = re.sub(r\"INSPI\", \"INSPIRATION\", text)\n",
    "    text = re.sub(r'ConstitutionDay', \"Constitution Day\", text)\n",
    "    text = re.sub(r\"Demconvention\", \"Democratic Convention\", text)\n",
    "    text = re.sub(r\"NMBR\", \"NUMBER\", text)\n",
    "    text = re.sub(r\"MelaniaTapes\", \"Melania Tapes\", text)\n",
    "    text = re.sub(r\"TrumpLiedAmericansDied\", \"Trump Lied Americans Died\", text)\n",
    "    text = re.sub(r\"Wooowwwww\", \"Wow\", text)\n",
    "    text = re.sub(r\"TheIceFamily\", \"The Ice Family\", text)\n",
    "    text = re.sub(r\"33Yrs\", \"33 Years\", text)\n",
    "    text = re.sub(r\"BreonnaTaylor\", \"Breonna Taylor\", text)\n",
    "    text = re.sub(r\"NonHustlers\", \"No Hustlers\", text)\n",
    "    text = re.sub(r\"HardWorker\", \"Hard Worker\", text)\n",
    "    text = re.sub(r\"idpol\", \"identity politics\", text)\n",
    "    text = re.sub(r\"HighSchools\", \"High Schools\", text)\n",
    "    text = re.sub(r\"TrumpBounty\", \"Trump Bounty\", text)\n",
    "    text = re.sub(r\"OpenLetterToRepublicans\", \"Open Letter To Republicans\", text)\n",
    "    text = re.sub(r\"thankles\", \"thankless\", text)\n",
    "    text = re.sub(r\"TheArtOfComedy\", \"The Art Of Comedy\", text)\n",
    "    text = re.sub(r\"TrumpMustResign\", \"Trump Must Resign\", text)\n",
    "    text = re.sub(r\"TruckJewelry\", \"Truck Jewelry\", text)\n",
    "    text = re.sub(r\"allota\", \"a lot of\", text)\n",
    "    text = re.sub(r\"GShit\", \"Gangster Shit\", text)\n",
    "    text = re.sub(r\"WestSidin\", \"West Siding\", text)\n",
    "    text = re.sub(r\"Waithing\", \"Waiting\", text)\n",
    "    text = re.sub(r\"BeCounted\", \"Be Counted\", text)\n",
    "    text = re.sub(r\"disag\", \"disagreement\", text)\n",
    "    text = re.sub(r\"CoronaVirus\", \"Corona Virus\", text)\n",
    "    text = re.sub(r\"ColdMcdonalds\", \"Cold McDonalds\", text)\n",
    "    text = re.sub(r\"FINALL\", \"FINAL LEVEL\", text)\n",
    "    text = re.sub(r\"BabyChanel\", \"Baby Chanel\", text)\n",
    "    text = re.sub(r\"InHerHonor\", \"In Her Honor\", text)\n",
    "    text = re.sub(r\"CaptainCovid\", \"Captain Covid\", text)\n",
    "    text = re.sub(r\"NojusticeNoDerby\", \"No justice No Derby\", text)\n",
    "    text = re.sub(r\"HairTrigger\", \"Hair Trigger\", text)\n",
    "    text = re.sub(r\"Powernomics\", \"Power Economics\", text)\n",
    "    text = re.sub(r\"BeatDown\", \"beat down\", text)\n",
    "    text = re.sub(r\"RhymePays\", \"Rhyme Pays\", text)\n",
    "    text = re.sub(r\"GoodAlwaysWins\", \"Good Always Wins\", text)\n",
    "    text = re.sub(r\"DefendOurPostOffice\", \"Defend Our Post Office\", text)\n",
    "    text = re.sub(r\"ImVoting4BidenBecause\", \"I am Voting For Biden Because\", text)\n",
    "    text = re.sub(r\"VoteForHer\", \"Vote For Her\", text)\n",
    "    text = re.sub(r\"NewYorkUndercover\", \"New York Undercover\", text)\n",
    "    text = re.sub(r\"Turkposting\", \"Turk posting\", text)\n",
    "    text = re.sub(r\"momentar\", \"momentarily\", text)\n",
    "    text = re.sub(r\"paternit\", \"paternity\", text)\n",
    "    text = re.sub(r\"longhauler\", \"long hauler\", text)\n",
    "    text = re.sub(r\"chaaaaaarged\", \"charged\", text)\n",
    "    text = re.sub(r\"libfem\", \"liberal feminists\", text)\n",
    "    text = re.sub(r\"Hysterecto\", \"Hysterectomy\", text)\n",
    "    text = re.sub(r\"MindFuck\", \"Mind Fuck\", text)\n",
    "    text = re.sub(r\"Gucciman\", \"Gucci Man\", text)\n",
    "    text = re.sub(r\"destigmitizing\", \"destigmatizing\", text)\n",
    "    text = re.sub(r\"dsgnd\", \"designed\", text)\n",
    "    text = re.sub(r\"chrstn\", \"christian\", text)\n",
    "    text = re.sub(r\"undrcvr\", 'undercover', text)\n",
    "    text = re.sub(r\"Bitchasses\", \"Bitch asses\", text)\n",
    "    text = re.sub(r\"CountEveryVote\", \"Count Every Vote\", text)\n",
    "    text = re.sub(r\"sorrynotsorry\", \"sorry not sorry\", text)\n",
    "    text = re.sub(r\"BronxRiver\", \"Brox River\", text)\n",
    "    text = re.sub(r\"RabbitHole\", \"rabbit hole\", text)\n",
    "    text = re.sub(r\"moovin\", \"moving\", text)\n",
    "    text = re.sub(r\"TrumpRacist\", \"Trump the Racist\", text)\n",
    "    text = re.sub(r\"TrumpMeltdown\", \"Trump Meltdown\", text)\n",
    "    text = re.sub(r\"trumpPencefailure\", \"Trump Pence failure\", text)\n",
    "    text = re.sub(r\"autofiction\", \"auto fiction\", text)\n",
    "    text = re.sub(r\"Hillaryite\", \"Hillary Supporter\", text)\n",
    "    text = re.sub(r\"vaguesplain\", \"vaguely explain\", text)\n",
    "    text = re.sub(r\"LoveIsLOUDER\", \"Love Is Louder\", text)\n",
    "    text = re.sub(r\"TransRightsAreHumanRights\", \"Trans Rights Are Human Rights\", text)\n",
    "    text = re.sub(r\"BidenIsBest\", \"Biden is the Best\", text)\n",
    "    text = re.sub(r\"condescendin\", \"condescending\", text)\n",
    "    text = re.sub(r\"girlboss\", \"girl boss\", text)\n",
    "    text = re.sub(r\"TwitterNeedsEditButton\", \"Twitter Needs Edit Button\", text)\n",
    "    text= re.sub(r\"malnourishe\", \"malnourished\", text)\n",
    "    text = re.sub(r\"AwfulAbby\", \"awful Abby\", text)\n",
    "    text = re.sub(r\"mybodymychoice\", \"my body my choice\", text)\n",
    "    text = re.sub(r\"ConfederateMitch\", \"Confederate Mitch\", text)\n",
    "    text = re.sub(r\"WeWantToPlay\", \"We Want To Play\", text)\n",
    "    text = re.sub(r\"newnormal\", \"new normal\", text)\n",
    "    text = re.sub(r\"AlyssaMilanoIsALie\", \"Alyssa Milano Is A Lie\", text)\n",
    "    text = re.sub(r\"JusticeForBreonnaTaylor\", \"Justice For Breonna Taylor\", text)\n",
    "    text = re.sub(r\"PollHero\", \"Poll Hero\", text)\n",
    "    text = re.sub(r\"OwnTheVote\", \"Own The Vote\", text)\n",
    "    text = re.sub(r\"LongHauler\", \"Long Hauler\", text)\n",
    "    text = re.sub(r\"WearADamnMask\", \"Wear A Damn Mask\", text)\n",
    "    text = re.sub(r\"DOPNESS\", \"DOPENESS\", text)\n",
    "    text = re.sub(r\"liberatio\", \"liberation\", text)\n",
    "    text = re.sub(r\"FlushTheTurdNov3rd\", \"Flush The Turn November 3rd\", text)\n",
    "    text = re.sub(r\"KennethRossJr\", \"Kenneth Ross Jr\", text)\n",
    "    text = re.sub(r\"TurnTexasBlue\", \"Turn Texas Blue\", text)\n",
    "    text = re.sub(r\"ImVotingForBiden\", \"I am Voting For Biden\", text)\n",
    "    text = re.sub(r\"Hilldawg\", \"Hillary dog\", text)\n",
    "    text = re.sub(r\"TrumpHatesOurMilitary\", \"Trump Hates Our Military\", text)\n",
    "    text = re.sub(r\"YangGang\", \"Yang Gang\", text)\n",
    "    text = re.sub(r\"RepublicanNationalConvention\", \"Republican National Convention\", text)\n",
    "    text = re.sub(r\"freeeeeeeeeee\", \"free\", text)\n",
    "    text = re.sub(r'TrumpKnew', \"Trump Knew\", text)\n",
    "    return text\n",
    "    "
   ]
  },
  {
   "cell_type": "markdown",
   "metadata": {},
   "source": [
    "\n",
    "num_epochs: 5\n",
    "gen_epochs: 1\n",
    "batch_size: 128\n",
    "train_size: 1.0\n",
    "new_model: False\n",
    "\n",
    "# Only applicable if new_model: True\n",
    "model_config:\n",
    "  rnn_layers: 2\n",
    "  rnn_size: 128\n",
    "  rnn_bidirectional: False\n",
    "  max_length: 40\n",
    "  dim_embeddings: 100\n",
    "  word_level: False"
   ]
  },
  {
   "cell_type": "code",
   "execution_count": 280,
   "metadata": {},
   "outputs": [
    {
     "name": "stderr",
     "output_type": "stream",
     "text": [
      "[autoreload of numpy.core.multiarray failed: Traceback (most recent call last):\n",
      "  File \"/Users/ekeleshian/twitter_mashup/tweetMashUp/lib/python3.6/site-packages/IPython/extensions/autoreload.py\", line 245, in check\n",
      "    superreload(m, reload, self.old_objects)\n",
      "  File \"/Users/ekeleshian/twitter_mashup/tweetMashUp/lib/python3.6/site-packages/IPython/extensions/autoreload.py\", line 394, in superreload\n",
      "    module = reload(module)\n",
      "  File \"/Users/ekeleshian/twitter_mashup/tweetMashUp/lib/python3.6/imp.py\", line 315, in reload\n",
      "    return importlib.reload(module)\n",
      "  File \"/Users/ekeleshian/twitter_mashup/tweetMashUp/lib/python3.6/importlib/__init__.py\", line 166, in reload\n",
      "    _bootstrap._exec(spec, module)\n",
      "  File \"<frozen importlib._bootstrap>\", line 618, in _exec\n",
      "  File \"<frozen importlib._bootstrap_external>\", line 678, in exec_module\n",
      "  File \"<frozen importlib._bootstrap>\", line 219, in _call_with_frames_removed\n",
      "  File \"/Users/ekeleshian/twitter_mashup/tweetMashUp/lib/python3.6/site-packages/numpy/core/multiarray.py\", line 146, in <module>\n",
      "    def concatenate(arrays, axis=None, out=None):\n",
      "  File \"/Users/ekeleshian/twitter_mashup/tweetMashUp/lib/python3.6/site-packages/numpy/core/overrides.py\", line 209, in decorator\n",
      "  File \"/Users/ekeleshian/twitter_mashup/tweetMashUp/lib/python3.6/site-packages/numpy/core/overrides.py\", line 171, in decorator\n",
      "    implementation, {name}, relevant_args, args, kwargs)\n",
      "RuntimeError: concatenate method already has a different docstring\n",
      "]\n",
      "[autoreload of numpy.core.numeric failed: Traceback (most recent call last):\n",
      "  File \"/Users/ekeleshian/twitter_mashup/tweetMashUp/lib/python3.6/site-packages/IPython/extensions/autoreload.py\", line 245, in check\n",
      "    superreload(m, reload, self.old_objects)\n",
      "  File \"/Users/ekeleshian/twitter_mashup/tweetMashUp/lib/python3.6/site-packages/IPython/extensions/autoreload.py\", line 394, in superreload\n",
      "    module = reload(module)\n",
      "  File \"/Users/ekeleshian/twitter_mashup/tweetMashUp/lib/python3.6/imp.py\", line 315, in reload\n",
      "    return importlib.reload(module)\n",
      "  File \"/Users/ekeleshian/twitter_mashup/tweetMashUp/lib/python3.6/importlib/__init__.py\", line 166, in reload\n",
      "    _bootstrap._exec(spec, module)\n",
      "  File \"<frozen importlib._bootstrap>\", line 618, in _exec\n",
      "  File \"<frozen importlib._bootstrap_external>\", line 678, in exec_module\n",
      "  File \"<frozen importlib._bootstrap>\", line 219, in _call_with_frames_removed\n",
      "  File \"/Users/ekeleshian/twitter_mashup/tweetMashUp/lib/python3.6/site-packages/numpy/core/numeric.py\", line 14, in <module>\n",
      "    from .multiarray import (\n",
      "ImportError: cannot import name 'int_asbuffer'\n",
      "]\n",
      "[autoreload of numpy.lib failed: Traceback (most recent call last):\n",
      "  File \"/Users/ekeleshian/twitter_mashup/tweetMashUp/lib/python3.6/site-packages/IPython/extensions/autoreload.py\", line 245, in check\n",
      "    superreload(m, reload, self.old_objects)\n",
      "  File \"/Users/ekeleshian/twitter_mashup/tweetMashUp/lib/python3.6/site-packages/IPython/extensions/autoreload.py\", line 394, in superreload\n",
      "    module = reload(module)\n",
      "  File \"/Users/ekeleshian/twitter_mashup/tweetMashUp/lib/python3.6/imp.py\", line 315, in reload\n",
      "    return importlib.reload(module)\n",
      "  File \"/Users/ekeleshian/twitter_mashup/tweetMashUp/lib/python3.6/importlib/__init__.py\", line 166, in reload\n",
      "    _bootstrap._exec(spec, module)\n",
      "  File \"<frozen importlib._bootstrap>\", line 618, in _exec\n",
      "  File \"<frozen importlib._bootstrap_external>\", line 678, in exec_module\n",
      "  File \"<frozen importlib._bootstrap>\", line 219, in _call_with_frames_removed\n",
      "  File \"/Users/ekeleshian/twitter_mashup/tweetMashUp/lib/python3.6/site-packages/numpy/lib/__init__.py\", line 32, in <module>\n",
      "    __all__ += type_check.__all__\n",
      "NameError: name 'type_check' is not defined\n",
      "]\n",
      "[autoreload of numpy.lib.scimath failed: Traceback (most recent call last):\n",
      "  File \"/Users/ekeleshian/twitter_mashup/tweetMashUp/lib/python3.6/site-packages/IPython/extensions/autoreload.py\", line 245, in check\n",
      "    superreload(m, reload, self.old_objects)\n",
      "  File \"/Users/ekeleshian/twitter_mashup/tweetMashUp/lib/python3.6/site-packages/IPython/extensions/autoreload.py\", line 394, in superreload\n",
      "    module = reload(module)\n",
      "  File \"/Users/ekeleshian/twitter_mashup/tweetMashUp/lib/python3.6/imp.py\", line 315, in reload\n",
      "    return importlib.reload(module)\n",
      "  File \"/Users/ekeleshian/twitter_mashup/tweetMashUp/lib/python3.6/importlib/__init__.py\", line 166, in reload\n",
      "    _bootstrap._exec(spec, module)\n",
      "  File \"<frozen importlib._bootstrap>\", line 618, in _exec\n",
      "  File \"<frozen importlib._bootstrap_external>\", line 678, in exec_module\n",
      "  File \"<frozen importlib._bootstrap>\", line 219, in _call_with_frames_removed\n",
      "  File \"/Users/ekeleshian/twitter_mashup/tweetMashUp/lib/python3.6/site-packages/numpy/lib/scimath.py\", line 21, in <module>\n",
      "    import numpy.core.numerictypes as nt\n",
      "AttributeError: module 'numpy.core' has no attribute 'numerictypes'\n",
      "]\n",
      "[autoreload of numpy.lib.index_tricks failed: Traceback (most recent call last):\n",
      "  File \"/Users/ekeleshian/twitter_mashup/tweetMashUp/lib/python3.6/site-packages/IPython/extensions/autoreload.py\", line 245, in check\n",
      "    superreload(m, reload, self.old_objects)\n",
      "  File \"/Users/ekeleshian/twitter_mashup/tweetMashUp/lib/python3.6/site-packages/IPython/extensions/autoreload.py\", line 394, in superreload\n",
      "    module = reload(module)\n",
      "  File \"/Users/ekeleshian/twitter_mashup/tweetMashUp/lib/python3.6/imp.py\", line 315, in reload\n",
      "    return importlib.reload(module)\n",
      "  File \"/Users/ekeleshian/twitter_mashup/tweetMashUp/lib/python3.6/importlib/__init__.py\", line 166, in reload\n",
      "    _bootstrap._exec(spec, module)\n",
      "  File \"<frozen importlib._bootstrap>\", line 618, in _exec\n",
      "  File \"<frozen importlib._bootstrap_external>\", line 678, in exec_module\n",
      "  File \"<frozen importlib._bootstrap>\", line 219, in _call_with_frames_removed\n",
      "  File \"/Users/ekeleshian/twitter_mashup/tweetMashUp/lib/python3.6/site-packages/numpy/lib/index_tricks.py\", line 13, in <module>\n",
      "    import numpy.matrixlib as matrixlib\n",
      "AttributeError: module 'numpy' has no attribute 'matrixlib'\n",
      "]\n",
      "[autoreload of numpy.matrixlib failed: Traceback (most recent call last):\n",
      "  File \"/Users/ekeleshian/twitter_mashup/tweetMashUp/lib/python3.6/site-packages/IPython/extensions/autoreload.py\", line 245, in check\n",
      "    superreload(m, reload, self.old_objects)\n",
      "  File \"/Users/ekeleshian/twitter_mashup/tweetMashUp/lib/python3.6/site-packages/IPython/extensions/autoreload.py\", line 394, in superreload\n",
      "    module = reload(module)\n",
      "  File \"/Users/ekeleshian/twitter_mashup/tweetMashUp/lib/python3.6/imp.py\", line 315, in reload\n",
      "    return importlib.reload(module)\n",
      "  File \"/Users/ekeleshian/twitter_mashup/tweetMashUp/lib/python3.6/importlib/__init__.py\", line 166, in reload\n",
      "    _bootstrap._exec(spec, module)\n",
      "  File \"<frozen importlib._bootstrap>\", line 618, in _exec\n",
      "  File \"<frozen importlib._bootstrap_external>\", line 678, in exec_module\n",
      "  File \"<frozen importlib._bootstrap>\", line 219, in _call_with_frames_removed\n",
      "  File \"/Users/ekeleshian/twitter_mashup/tweetMashUp/lib/python3.6/site-packages/numpy/matrixlib/__init__.py\", line 8, in <module>\n",
      "    __all__ = defmatrix.__all__\n",
      "NameError: name 'defmatrix' is not defined\n",
      "]\n",
      "[autoreload of numpy.ma.core failed: Traceback (most recent call last):\n",
      "  File \"/Users/ekeleshian/twitter_mashup/tweetMashUp/lib/python3.6/site-packages/IPython/extensions/autoreload.py\", line 245, in check\n",
      "    superreload(m, reload, self.old_objects)\n",
      "  File \"/Users/ekeleshian/twitter_mashup/tweetMashUp/lib/python3.6/site-packages/IPython/extensions/autoreload.py\", line 394, in superreload\n",
      "    module = reload(module)\n",
      "  File \"/Users/ekeleshian/twitter_mashup/tweetMashUp/lib/python3.6/imp.py\", line 315, in reload\n",
      "    return importlib.reload(module)\n",
      "  File \"/Users/ekeleshian/twitter_mashup/tweetMashUp/lib/python3.6/importlib/__init__.py\", line 166, in reload\n",
      "    _bootstrap._exec(spec, module)\n",
      "  File \"<frozen importlib._bootstrap>\", line 618, in _exec\n",
      "  File \"<frozen importlib._bootstrap_external>\", line 678, in exec_module\n",
      "  File \"<frozen importlib._bootstrap>\", line 219, in _call_with_frames_removed\n",
      "  File \"/Users/ekeleshian/twitter_mashup/tweetMashUp/lib/python3.6/site-packages/numpy/ma/core.py\", line 39, in <module>\n",
      "    import numpy.core.numerictypes as ntypes\n",
      "AttributeError: module 'numpy.core' has no attribute 'numerictypes'\n",
      "]\n",
      "[autoreload of numpy.testing failed: Traceback (most recent call last):\n",
      "  File \"/Users/ekeleshian/twitter_mashup/tweetMashUp/lib/python3.6/site-packages/IPython/extensions/autoreload.py\", line 245, in check\n",
      "    superreload(m, reload, self.old_objects)\n",
      "  File \"/Users/ekeleshian/twitter_mashup/tweetMashUp/lib/python3.6/site-packages/IPython/extensions/autoreload.py\", line 394, in superreload\n",
      "    module = reload(module)\n",
      "  File \"/Users/ekeleshian/twitter_mashup/tweetMashUp/lib/python3.6/imp.py\", line 315, in reload\n",
      "    return importlib.reload(module)\n",
      "  File \"/Users/ekeleshian/twitter_mashup/tweetMashUp/lib/python3.6/importlib/__init__.py\", line 166, in reload\n",
      "    _bootstrap._exec(spec, module)\n",
      "  File \"<frozen importlib._bootstrap>\", line 618, in _exec\n",
      "  File \"<frozen importlib._bootstrap_external>\", line 678, in exec_module\n",
      "  File \"<frozen importlib._bootstrap>\", line 219, in _call_with_frames_removed\n",
      "  File \"/Users/ekeleshian/twitter_mashup/tweetMashUp/lib/python3.6/site-packages/numpy/testing/__init__.py\", line 18, in <module>\n",
      "    __all__ = _private.utils.__all__ + ['TestCase', 'run_module_suite']\n",
      "NameError: name '_private' is not defined\n",
      "]\n"
     ]
    },
    {
     "ename": "AttributeError",
     "evalue": "module 'numpy.core' has no attribute 'numerictypes'",
     "output_type": "error",
     "traceback": [
      "\u001b[0;31m---------------------------------------------------------------------------\u001b[0m",
      "\u001b[0;31mAttributeError\u001b[0m                            Traceback (most recent call last)",
      "\u001b[0;32m<ipython-input-280-4dafe2eff380>\u001b[0m in \u001b[0;36m<module>\u001b[0;34m\u001b[0m\n\u001b[0;32m----> 1\u001b[0;31m \u001b[0;32mfrom\u001b[0m \u001b[0mtextgenrnn\u001b[0m \u001b[0;32mimport\u001b[0m \u001b[0mtextgenrnn\u001b[0m\u001b[0;34m\u001b[0m\u001b[0;34m\u001b[0m\u001b[0m\n\u001b[0m",
      "\u001b[0;32m~/twitter_mashup/tweetMashUp/lib/python3.6/site-packages/textgenrnn/__init__.py\u001b[0m in \u001b[0;36m<module>\u001b[0;34m\u001b[0m\n\u001b[0;32m----> 1\u001b[0;31m \u001b[0;32mfrom\u001b[0m \u001b[0;34m.\u001b[0m\u001b[0mtextgenrnn\u001b[0m \u001b[0;32mimport\u001b[0m \u001b[0mtextgenrnn\u001b[0m\u001b[0;34m\u001b[0m\u001b[0;34m\u001b[0m\u001b[0m\n\u001b[0m",
      "\u001b[0;32m~/twitter_mashup/tweetMashUp/lib/python3.6/site-packages/textgenrnn/textgenrnn.py\u001b[0m in \u001b[0;36m<module>\u001b[0;34m\u001b[0m\n\u001b[0;32m----> 1\u001b[0;31m \u001b[0;32mfrom\u001b[0m \u001b[0mtensorflow\u001b[0m\u001b[0;34m.\u001b[0m\u001b[0mkeras\u001b[0m\u001b[0;34m.\u001b[0m\u001b[0mcallbacks\u001b[0m \u001b[0;32mimport\u001b[0m \u001b[0mLearningRateScheduler\u001b[0m\u001b[0;34m,\u001b[0m \u001b[0mCallback\u001b[0m\u001b[0;34m\u001b[0m\u001b[0;34m\u001b[0m\u001b[0m\n\u001b[0m\u001b[1;32m      2\u001b[0m \u001b[0;32mfrom\u001b[0m \u001b[0mtensorflow\u001b[0m\u001b[0;34m.\u001b[0m\u001b[0mkeras\u001b[0m\u001b[0;34m.\u001b[0m\u001b[0mmodels\u001b[0m \u001b[0;32mimport\u001b[0m \u001b[0mModel\u001b[0m\u001b[0;34m,\u001b[0m \u001b[0mload_model\u001b[0m\u001b[0;34m\u001b[0m\u001b[0;34m\u001b[0m\u001b[0m\n\u001b[1;32m      3\u001b[0m \u001b[0;32mfrom\u001b[0m \u001b[0mtensorflow\u001b[0m\u001b[0;34m.\u001b[0m\u001b[0mkeras\u001b[0m\u001b[0;34m.\u001b[0m\u001b[0mpreprocessing\u001b[0m \u001b[0;32mimport\u001b[0m \u001b[0msequence\u001b[0m\u001b[0;34m\u001b[0m\u001b[0;34m\u001b[0m\u001b[0m\n\u001b[1;32m      4\u001b[0m \u001b[0;32mfrom\u001b[0m \u001b[0mtensorflow\u001b[0m\u001b[0;34m.\u001b[0m\u001b[0mkeras\u001b[0m\u001b[0;34m.\u001b[0m\u001b[0mpreprocessing\u001b[0m\u001b[0;34m.\u001b[0m\u001b[0mtext\u001b[0m \u001b[0;32mimport\u001b[0m \u001b[0mTokenizer\u001b[0m\u001b[0;34m,\u001b[0m \u001b[0mtext_to_word_sequence\u001b[0m\u001b[0;34m\u001b[0m\u001b[0;34m\u001b[0m\u001b[0m\n\u001b[1;32m      5\u001b[0m \u001b[0;32mfrom\u001b[0m \u001b[0mtensorflow\u001b[0m\u001b[0;34m.\u001b[0m\u001b[0mkeras\u001b[0m\u001b[0;34m.\u001b[0m\u001b[0mutils\u001b[0m \u001b[0;32mimport\u001b[0m \u001b[0mmulti_gpu_model\u001b[0m\u001b[0;34m\u001b[0m\u001b[0;34m\u001b[0m\u001b[0m\n",
      "\u001b[0;32m~/twitter_mashup/tweetMashUp/lib/python3.6/site-packages/tensorflow/__init__.py\u001b[0m in \u001b[0;36m<module>\u001b[0;34m\u001b[0m\n\u001b[1;32m     39\u001b[0m \u001b[0;32mimport\u001b[0m \u001b[0msys\u001b[0m \u001b[0;32mas\u001b[0m \u001b[0m_sys\u001b[0m\u001b[0;34m\u001b[0m\u001b[0;34m\u001b[0m\u001b[0m\n\u001b[1;32m     40\u001b[0m \u001b[0;34m\u001b[0m\u001b[0m\n\u001b[0;32m---> 41\u001b[0;31m \u001b[0;32mfrom\u001b[0m \u001b[0mtensorflow\u001b[0m\u001b[0;34m.\u001b[0m\u001b[0mpython\u001b[0m\u001b[0;34m.\u001b[0m\u001b[0mtools\u001b[0m \u001b[0;32mimport\u001b[0m \u001b[0mmodule_util\u001b[0m \u001b[0;32mas\u001b[0m \u001b[0m_module_util\u001b[0m\u001b[0;34m\u001b[0m\u001b[0;34m\u001b[0m\u001b[0m\n\u001b[0m\u001b[1;32m     42\u001b[0m \u001b[0;32mfrom\u001b[0m \u001b[0mtensorflow\u001b[0m\u001b[0;34m.\u001b[0m\u001b[0mpython\u001b[0m\u001b[0;34m.\u001b[0m\u001b[0mutil\u001b[0m\u001b[0;34m.\u001b[0m\u001b[0mlazy_loader\u001b[0m \u001b[0;32mimport\u001b[0m \u001b[0mLazyLoader\u001b[0m \u001b[0;32mas\u001b[0m \u001b[0m_LazyLoader\u001b[0m\u001b[0;34m\u001b[0m\u001b[0;34m\u001b[0m\u001b[0m\n\u001b[1;32m     43\u001b[0m \u001b[0;34m\u001b[0m\u001b[0m\n",
      "\u001b[0;32m~/twitter_mashup/tweetMashUp/lib/python3.6/site-packages/tensorflow/python/__init__.py\u001b[0m in \u001b[0;36m<module>\u001b[0;34m\u001b[0m\n\u001b[1;32m     43\u001b[0m \u001b[0;34m\u001b[0m\u001b[0m\n\u001b[1;32m     44\u001b[0m \u001b[0;31m# Bring in subpackages.\u001b[0m\u001b[0;34m\u001b[0m\u001b[0;34m\u001b[0m\u001b[0;34m\u001b[0m\u001b[0m\n\u001b[0;32m---> 45\u001b[0;31m \u001b[0;32mfrom\u001b[0m \u001b[0mtensorflow\u001b[0m\u001b[0;34m.\u001b[0m\u001b[0mpython\u001b[0m \u001b[0;32mimport\u001b[0m \u001b[0mdata\u001b[0m\u001b[0;34m\u001b[0m\u001b[0;34m\u001b[0m\u001b[0m\n\u001b[0m\u001b[1;32m     46\u001b[0m \u001b[0;32mfrom\u001b[0m \u001b[0mtensorflow\u001b[0m\u001b[0;34m.\u001b[0m\u001b[0mpython\u001b[0m \u001b[0;32mimport\u001b[0m \u001b[0mdistribute\u001b[0m\u001b[0;34m\u001b[0m\u001b[0;34m\u001b[0m\u001b[0m\n\u001b[1;32m     47\u001b[0m \u001b[0;32mfrom\u001b[0m \u001b[0mtensorflow\u001b[0m\u001b[0;34m.\u001b[0m\u001b[0mpython\u001b[0m \u001b[0;32mimport\u001b[0m \u001b[0mkeras\u001b[0m\u001b[0;34m\u001b[0m\u001b[0;34m\u001b[0m\u001b[0m\n",
      "\u001b[0;32m~/twitter_mashup/tweetMashUp/lib/python3.6/site-packages/tensorflow/python/data/__init__.py\u001b[0m in \u001b[0;36m<module>\u001b[0;34m\u001b[0m\n\u001b[1;32m     23\u001b[0m \u001b[0;34m\u001b[0m\u001b[0m\n\u001b[1;32m     24\u001b[0m \u001b[0;31m# pylint: disable=unused-import\u001b[0m\u001b[0;34m\u001b[0m\u001b[0;34m\u001b[0m\u001b[0;34m\u001b[0m\u001b[0m\n\u001b[0;32m---> 25\u001b[0;31m \u001b[0;32mfrom\u001b[0m \u001b[0mtensorflow\u001b[0m\u001b[0;34m.\u001b[0m\u001b[0mpython\u001b[0m\u001b[0;34m.\u001b[0m\u001b[0mdata\u001b[0m \u001b[0;32mimport\u001b[0m \u001b[0mexperimental\u001b[0m\u001b[0;34m\u001b[0m\u001b[0;34m\u001b[0m\u001b[0m\n\u001b[0m\u001b[1;32m     26\u001b[0m \u001b[0;32mfrom\u001b[0m \u001b[0mtensorflow\u001b[0m\u001b[0;34m.\u001b[0m\u001b[0mpython\u001b[0m\u001b[0;34m.\u001b[0m\u001b[0mdata\u001b[0m\u001b[0;34m.\u001b[0m\u001b[0mops\u001b[0m\u001b[0;34m.\u001b[0m\u001b[0mdataset_ops\u001b[0m \u001b[0;32mimport\u001b[0m \u001b[0mDataset\u001b[0m\u001b[0;34m\u001b[0m\u001b[0;34m\u001b[0m\u001b[0m\n\u001b[1;32m     27\u001b[0m \u001b[0;32mfrom\u001b[0m \u001b[0mtensorflow\u001b[0m\u001b[0;34m.\u001b[0m\u001b[0mpython\u001b[0m\u001b[0;34m.\u001b[0m\u001b[0mdata\u001b[0m\u001b[0;34m.\u001b[0m\u001b[0mops\u001b[0m\u001b[0;34m.\u001b[0m\u001b[0mdataset_ops\u001b[0m \u001b[0;32mimport\u001b[0m \u001b[0mINFINITE\u001b[0m \u001b[0;32mas\u001b[0m \u001b[0mINFINITE_CARDINALITY\u001b[0m\u001b[0;34m\u001b[0m\u001b[0;34m\u001b[0m\u001b[0m\n",
      "\u001b[0;32m~/twitter_mashup/tweetMashUp/lib/python3.6/site-packages/tensorflow/python/data/experimental/__init__.py\u001b[0m in \u001b[0;36m<module>\u001b[0;34m\u001b[0m\n\u001b[1;32m     94\u001b[0m \u001b[0;34m\u001b[0m\u001b[0m\n\u001b[1;32m     95\u001b[0m \u001b[0;31m# pylint: disable=unused-import\u001b[0m\u001b[0;34m\u001b[0m\u001b[0;34m\u001b[0m\u001b[0;34m\u001b[0m\u001b[0m\n\u001b[0;32m---> 96\u001b[0;31m \u001b[0;32mfrom\u001b[0m \u001b[0mtensorflow\u001b[0m\u001b[0;34m.\u001b[0m\u001b[0mpython\u001b[0m\u001b[0;34m.\u001b[0m\u001b[0mdata\u001b[0m\u001b[0;34m.\u001b[0m\u001b[0mexperimental\u001b[0m \u001b[0;32mimport\u001b[0m \u001b[0mservice\u001b[0m\u001b[0;34m\u001b[0m\u001b[0;34m\u001b[0m\u001b[0m\n\u001b[0m\u001b[1;32m     97\u001b[0m \u001b[0;32mfrom\u001b[0m \u001b[0mtensorflow\u001b[0m\u001b[0;34m.\u001b[0m\u001b[0mpython\u001b[0m\u001b[0;34m.\u001b[0m\u001b[0mdata\u001b[0m\u001b[0;34m.\u001b[0m\u001b[0mexperimental\u001b[0m\u001b[0;34m.\u001b[0m\u001b[0mops\u001b[0m\u001b[0;34m.\u001b[0m\u001b[0mbatching\u001b[0m \u001b[0;32mimport\u001b[0m \u001b[0mdense_to_ragged_batch\u001b[0m\u001b[0;34m\u001b[0m\u001b[0;34m\u001b[0m\u001b[0m\n\u001b[1;32m     98\u001b[0m \u001b[0;32mfrom\u001b[0m \u001b[0mtensorflow\u001b[0m\u001b[0;34m.\u001b[0m\u001b[0mpython\u001b[0m\u001b[0;34m.\u001b[0m\u001b[0mdata\u001b[0m\u001b[0;34m.\u001b[0m\u001b[0mexperimental\u001b[0m\u001b[0;34m.\u001b[0m\u001b[0mops\u001b[0m\u001b[0;34m.\u001b[0m\u001b[0mbatching\u001b[0m \u001b[0;32mimport\u001b[0m \u001b[0mdense_to_sparse_batch\u001b[0m\u001b[0;34m\u001b[0m\u001b[0;34m\u001b[0m\u001b[0m\n",
      "\u001b[0;32m~/twitter_mashup/tweetMashUp/lib/python3.6/site-packages/tensorflow/python/data/experimental/service/__init__.py\u001b[0m in \u001b[0;36m<module>\u001b[0;34m\u001b[0m\n\u001b[1;32m     19\u001b[0m \u001b[0;32mfrom\u001b[0m \u001b[0m__future__\u001b[0m \u001b[0;32mimport\u001b[0m \u001b[0mprint_function\u001b[0m\u001b[0;34m\u001b[0m\u001b[0;34m\u001b[0m\u001b[0m\n\u001b[1;32m     20\u001b[0m \u001b[0;34m\u001b[0m\u001b[0m\n\u001b[0;32m---> 21\u001b[0;31m \u001b[0;32mfrom\u001b[0m \u001b[0mtensorflow\u001b[0m\u001b[0;34m.\u001b[0m\u001b[0mpython\u001b[0m\u001b[0;34m.\u001b[0m\u001b[0mdata\u001b[0m\u001b[0;34m.\u001b[0m\u001b[0mexperimental\u001b[0m\u001b[0;34m.\u001b[0m\u001b[0mops\u001b[0m\u001b[0;34m.\u001b[0m\u001b[0mdata_service_ops\u001b[0m \u001b[0;32mimport\u001b[0m \u001b[0mdistribute\u001b[0m\u001b[0;34m\u001b[0m\u001b[0;34m\u001b[0m\u001b[0m\n\u001b[0m\u001b[1;32m     22\u001b[0m \u001b[0;32mfrom\u001b[0m \u001b[0mtensorflow\u001b[0m\u001b[0;34m.\u001b[0m\u001b[0mpython\u001b[0m\u001b[0;34m.\u001b[0m\u001b[0mdata\u001b[0m\u001b[0;34m.\u001b[0m\u001b[0mexperimental\u001b[0m\u001b[0;34m.\u001b[0m\u001b[0mservice\u001b[0m\u001b[0;34m.\u001b[0m\u001b[0mserver_lib\u001b[0m \u001b[0;32mimport\u001b[0m \u001b[0mDispatchServer\u001b[0m\u001b[0;34m\u001b[0m\u001b[0;34m\u001b[0m\u001b[0m\n\u001b[1;32m     23\u001b[0m \u001b[0;32mfrom\u001b[0m \u001b[0mtensorflow\u001b[0m\u001b[0;34m.\u001b[0m\u001b[0mpython\u001b[0m\u001b[0;34m.\u001b[0m\u001b[0mdata\u001b[0m\u001b[0;34m.\u001b[0m\u001b[0mexperimental\u001b[0m\u001b[0;34m.\u001b[0m\u001b[0mservice\u001b[0m\u001b[0;34m.\u001b[0m\u001b[0mserver_lib\u001b[0m \u001b[0;32mimport\u001b[0m \u001b[0mWorkerServer\u001b[0m\u001b[0;34m\u001b[0m\u001b[0;34m\u001b[0m\u001b[0m\n",
      "\u001b[0;32m~/twitter_mashup/tweetMashUp/lib/python3.6/site-packages/tensorflow/python/data/experimental/ops/data_service_ops.py\u001b[0m in \u001b[0;36m<module>\u001b[0;34m\u001b[0m\n\u001b[1;32m     23\u001b[0m \u001b[0;34m\u001b[0m\u001b[0m\n\u001b[1;32m     24\u001b[0m \u001b[0;32mfrom\u001b[0m \u001b[0mtensorflow\u001b[0m\u001b[0;34m.\u001b[0m\u001b[0mpython\u001b[0m \u001b[0;32mimport\u001b[0m \u001b[0mtf2\u001b[0m\u001b[0;34m\u001b[0m\u001b[0;34m\u001b[0m\u001b[0m\n\u001b[0;32m---> 25\u001b[0;31m \u001b[0;32mfrom\u001b[0m \u001b[0mtensorflow\u001b[0m\u001b[0;34m.\u001b[0m\u001b[0mpython\u001b[0m\u001b[0;34m.\u001b[0m\u001b[0mdata\u001b[0m\u001b[0;34m.\u001b[0m\u001b[0mexperimental\u001b[0m\u001b[0;34m.\u001b[0m\u001b[0mops\u001b[0m \u001b[0;32mimport\u001b[0m \u001b[0mcompression_ops\u001b[0m\u001b[0;34m\u001b[0m\u001b[0;34m\u001b[0m\u001b[0m\n\u001b[0m\u001b[1;32m     26\u001b[0m \u001b[0;32mfrom\u001b[0m \u001b[0mtensorflow\u001b[0m\u001b[0;34m.\u001b[0m\u001b[0mpython\u001b[0m\u001b[0;34m.\u001b[0m\u001b[0mdata\u001b[0m\u001b[0;34m.\u001b[0m\u001b[0mexperimental\u001b[0m\u001b[0;34m.\u001b[0m\u001b[0mops\u001b[0m\u001b[0;34m.\u001b[0m\u001b[0mdistribute_options\u001b[0m \u001b[0;32mimport\u001b[0m \u001b[0mAutoShardPolicy\u001b[0m\u001b[0;34m\u001b[0m\u001b[0;34m\u001b[0m\u001b[0m\n\u001b[1;32m     27\u001b[0m \u001b[0;32mfrom\u001b[0m \u001b[0mtensorflow\u001b[0m\u001b[0;34m.\u001b[0m\u001b[0mpython\u001b[0m\u001b[0;34m.\u001b[0m\u001b[0mdata\u001b[0m\u001b[0;34m.\u001b[0m\u001b[0mexperimental\u001b[0m\u001b[0;34m.\u001b[0m\u001b[0mops\u001b[0m\u001b[0;34m.\u001b[0m\u001b[0mdistribute_options\u001b[0m \u001b[0;32mimport\u001b[0m \u001b[0mExternalStatePolicy\u001b[0m\u001b[0;34m\u001b[0m\u001b[0;34m\u001b[0m\u001b[0m\n",
      "\u001b[0;32m~/twitter_mashup/tweetMashUp/lib/python3.6/site-packages/tensorflow/python/data/experimental/ops/compression_ops.py\u001b[0m in \u001b[0;36m<module>\u001b[0;34m\u001b[0m\n\u001b[1;32m     18\u001b[0m \u001b[0;32mfrom\u001b[0m \u001b[0m__future__\u001b[0m \u001b[0;32mimport\u001b[0m \u001b[0mprint_function\u001b[0m\u001b[0;34m\u001b[0m\u001b[0;34m\u001b[0m\u001b[0m\n\u001b[1;32m     19\u001b[0m \u001b[0;34m\u001b[0m\u001b[0m\n\u001b[0;32m---> 20\u001b[0;31m \u001b[0;32mfrom\u001b[0m \u001b[0mtensorflow\u001b[0m\u001b[0;34m.\u001b[0m\u001b[0mpython\u001b[0m\u001b[0;34m.\u001b[0m\u001b[0mdata\u001b[0m\u001b[0;34m.\u001b[0m\u001b[0mutil\u001b[0m \u001b[0;32mimport\u001b[0m \u001b[0mstructure\u001b[0m\u001b[0;34m\u001b[0m\u001b[0;34m\u001b[0m\u001b[0m\n\u001b[0m\u001b[1;32m     21\u001b[0m \u001b[0;32mfrom\u001b[0m \u001b[0mtensorflow\u001b[0m\u001b[0;34m.\u001b[0m\u001b[0mpython\u001b[0m\u001b[0;34m.\u001b[0m\u001b[0mops\u001b[0m \u001b[0;32mimport\u001b[0m \u001b[0mgen_experimental_dataset_ops\u001b[0m \u001b[0;32mas\u001b[0m \u001b[0mged_ops\u001b[0m\u001b[0;34m\u001b[0m\u001b[0;34m\u001b[0m\u001b[0m\n\u001b[1;32m     22\u001b[0m \u001b[0;34m\u001b[0m\u001b[0m\n",
      "\u001b[0;32m~/twitter_mashup/tweetMashUp/lib/python3.6/site-packages/tensorflow/python/data/util/structure.py\u001b[0m in \u001b[0;36m<module>\u001b[0;34m\u001b[0m\n\u001b[1;32m     31\u001b[0m \u001b[0;32mfrom\u001b[0m \u001b[0mtensorflow\u001b[0m\u001b[0;34m.\u001b[0m\u001b[0mpython\u001b[0m\u001b[0;34m.\u001b[0m\u001b[0mframework\u001b[0m \u001b[0;32mimport\u001b[0m \u001b[0mtensor_spec\u001b[0m\u001b[0;34m\u001b[0m\u001b[0;34m\u001b[0m\u001b[0m\n\u001b[1;32m     32\u001b[0m \u001b[0;32mfrom\u001b[0m \u001b[0mtensorflow\u001b[0m\u001b[0;34m.\u001b[0m\u001b[0mpython\u001b[0m\u001b[0;34m.\u001b[0m\u001b[0mframework\u001b[0m \u001b[0;32mimport\u001b[0m \u001b[0mtype_spec\u001b[0m\u001b[0;34m\u001b[0m\u001b[0;34m\u001b[0m\u001b[0m\n\u001b[0;32m---> 33\u001b[0;31m \u001b[0;32mfrom\u001b[0m \u001b[0mtensorflow\u001b[0m\u001b[0;34m.\u001b[0m\u001b[0mpython\u001b[0m\u001b[0;34m.\u001b[0m\u001b[0mops\u001b[0m \u001b[0;32mimport\u001b[0m \u001b[0mtensor_array_ops\u001b[0m\u001b[0;34m\u001b[0m\u001b[0;34m\u001b[0m\u001b[0m\n\u001b[0m\u001b[1;32m     34\u001b[0m \u001b[0;32mfrom\u001b[0m \u001b[0mtensorflow\u001b[0m\u001b[0;34m.\u001b[0m\u001b[0mpython\u001b[0m\u001b[0;34m.\u001b[0m\u001b[0mops\u001b[0m\u001b[0;34m.\u001b[0m\u001b[0mragged\u001b[0m \u001b[0;32mimport\u001b[0m \u001b[0mragged_tensor\u001b[0m\u001b[0;34m\u001b[0m\u001b[0;34m\u001b[0m\u001b[0m\n\u001b[1;32m     35\u001b[0m \u001b[0;32mfrom\u001b[0m \u001b[0mtensorflow\u001b[0m\u001b[0;34m.\u001b[0m\u001b[0mpython\u001b[0m\u001b[0;34m.\u001b[0m\u001b[0mplatform\u001b[0m \u001b[0;32mimport\u001b[0m \u001b[0mtf_logging\u001b[0m \u001b[0;32mas\u001b[0m \u001b[0mlogging\u001b[0m\u001b[0;34m\u001b[0m\u001b[0;34m\u001b[0m\u001b[0m\n",
      "\u001b[0;32m~/twitter_mashup/tweetMashUp/lib/python3.6/site-packages/tensorflow/python/ops/tensor_array_ops.py\u001b[0m in \u001b[0;36m<module>\u001b[0;34m\u001b[0m\n\u001b[1;32m     36\u001b[0m \u001b[0;32mfrom\u001b[0m \u001b[0mtensorflow\u001b[0m\u001b[0;34m.\u001b[0m\u001b[0mpython\u001b[0m\u001b[0;34m.\u001b[0m\u001b[0mframework\u001b[0m \u001b[0;32mimport\u001b[0m \u001b[0mtensor_util\u001b[0m\u001b[0;34m\u001b[0m\u001b[0;34m\u001b[0m\u001b[0m\n\u001b[1;32m     37\u001b[0m \u001b[0;32mfrom\u001b[0m \u001b[0mtensorflow\u001b[0m\u001b[0;34m.\u001b[0m\u001b[0mpython\u001b[0m\u001b[0;34m.\u001b[0m\u001b[0mframework\u001b[0m \u001b[0;32mimport\u001b[0m \u001b[0mtype_spec\u001b[0m\u001b[0;34m\u001b[0m\u001b[0;34m\u001b[0m\u001b[0m\n\u001b[0;32m---> 38\u001b[0;31m \u001b[0;32mfrom\u001b[0m \u001b[0mtensorflow\u001b[0m\u001b[0;34m.\u001b[0m\u001b[0mpython\u001b[0m\u001b[0;34m.\u001b[0m\u001b[0mops\u001b[0m \u001b[0;32mimport\u001b[0m \u001b[0marray_ops\u001b[0m\u001b[0;34m\u001b[0m\u001b[0;34m\u001b[0m\u001b[0m\n\u001b[0m\u001b[1;32m     39\u001b[0m \u001b[0;32mfrom\u001b[0m \u001b[0mtensorflow\u001b[0m\u001b[0;34m.\u001b[0m\u001b[0mpython\u001b[0m\u001b[0;34m.\u001b[0m\u001b[0mops\u001b[0m \u001b[0;32mimport\u001b[0m \u001b[0mcontrol_flow_util\u001b[0m\u001b[0;34m\u001b[0m\u001b[0;34m\u001b[0m\u001b[0m\n\u001b[1;32m     40\u001b[0m \u001b[0;32mfrom\u001b[0m \u001b[0mtensorflow\u001b[0m\u001b[0;34m.\u001b[0m\u001b[0mpython\u001b[0m\u001b[0;34m.\u001b[0m\u001b[0mops\u001b[0m \u001b[0;32mimport\u001b[0m \u001b[0mgen_control_flow_ops\u001b[0m\u001b[0;34m\u001b[0m\u001b[0;34m\u001b[0m\u001b[0m\n",
      "\u001b[0;32m~/twitter_mashup/tweetMashUp/lib/python3.6/site-packages/tensorflow/python/ops/array_ops.py\u001b[0m in \u001b[0;36m<module>\u001b[0;34m\u001b[0m\n\u001b[1;32m   1473\u001b[0m \u001b[0;34m\u001b[0m\u001b[0m\n\u001b[1;32m   1474\u001b[0m \u001b[0;34m\u001b[0m\u001b[0m\n\u001b[0;32m-> 1475\u001b[0;31m \u001b[0m_NON_AUTOPACKABLE_TYPES\u001b[0m \u001b[0;34m=\u001b[0m \u001b[0mset\u001b[0m\u001b[0;34m(\u001b[0m\u001b[0mnp\u001b[0m\u001b[0;34m.\u001b[0m\u001b[0mcore\u001b[0m\u001b[0;34m.\u001b[0m\u001b[0mnumerictypes\u001b[0m\u001b[0;34m.\u001b[0m\u001b[0mScalarType\u001b[0m\u001b[0;34m)\u001b[0m\u001b[0;34m\u001b[0m\u001b[0;34m\u001b[0m\u001b[0m\n\u001b[0m\u001b[1;32m   1476\u001b[0m \u001b[0m_NON_AUTOPACKABLE_TYPES\u001b[0m\u001b[0;34m.\u001b[0m\u001b[0madd\u001b[0m\u001b[0;34m(\u001b[0m\u001b[0mnp\u001b[0m\u001b[0;34m.\u001b[0m\u001b[0mndarray\u001b[0m\u001b[0;34m)\u001b[0m\u001b[0;34m\u001b[0m\u001b[0;34m\u001b[0m\u001b[0m\n\u001b[1;32m   1477\u001b[0m \u001b[0;34m\u001b[0m\u001b[0m\n",
      "\u001b[0;31mAttributeError\u001b[0m: module 'numpy.core' has no attribute 'numerictypes'"
     ]
    }
   ],
   "source": [
    "from textgenrnn import textgenrnn"
   ]
  },
  {
   "cell_type": "code",
   "execution_count": 278,
   "metadata": {},
   "outputs": [
    {
     "ename": "NameError",
     "evalue": "name 'textgenrnn' is not defined",
     "output_type": "error",
     "traceback": [
      "\u001b[0;31m---------------------------------------------------------------------------\u001b[0m",
      "\u001b[0;31mNameError\u001b[0m                                 Traceback (most recent call last)",
      "\u001b[0;32m<ipython-input-278-17055a2307e7>\u001b[0m in \u001b[0;36m<module>\u001b[0;34m\u001b[0m\n\u001b[0;32m----> 1\u001b[0;31m \u001b[0mdir\u001b[0m\u001b[0;34m(\u001b[0m\u001b[0mtextgenrnn\u001b[0m\u001b[0;34m)\u001b[0m\u001b[0;34m\u001b[0m\u001b[0;34m\u001b[0m\u001b[0m\n\u001b[0m",
      "\u001b[0;31mNameError\u001b[0m: name 'textgenrnn' is not defined"
     ]
    }
   ],
   "source": [
    "dir(textgenrnn)"
   ]
  },
  {
   "cell_type": "code",
   "execution_count": 292,
   "metadata": {},
   "outputs": [
    {
     "ename": "ValueError",
     "evalue": "The truth value of a Series is ambiguous. Use a.empty, a.bool(), a.item(), a.any() or a.all().",
     "output_type": "error",
     "traceback": [
      "\u001b[0;31m---------------------------------------------------------------------------\u001b[0m",
      "\u001b[0;31mValueError\u001b[0m                                Traceback (most recent call last)",
      "\u001b[0;32m<ipython-input-292-3b9b4bfdf796>\u001b[0m in \u001b[0;36m<module>\u001b[0;34m\u001b[0m\n\u001b[0;32m----> 1\u001b[0;31m \u001b[0mtexts\u001b[0m \u001b[0;34m=\u001b[0m \u001b[0mlist\u001b[0m\u001b[0;34m(\u001b[0m\u001b[0mdf\u001b[0m\u001b[0;34m[\u001b[0m\u001b[0mdf\u001b[0m\u001b[0;34m[\u001b[0m\u001b[0;34m'user'\u001b[0m\u001b[0;34m]\u001b[0m \u001b[0;34m==\u001b[0m \u001b[0;34m\"annakhachiyan\"\u001b[0m \u001b[0;32mor\u001b[0m \u001b[0mdf\u001b[0m\u001b[0;34m[\u001b[0m\u001b[0;34m'user'\u001b[0m\u001b[0;34m]\u001b[0m \u001b[0;34m==\u001b[0m \u001b[0;34m'Alyssa_Milano'\u001b[0m\u001b[0;34m]\u001b[0m\u001b[0;34m[\u001b[0m\u001b[0;34m'cleaner_tweet'\u001b[0m\u001b[0;34m]\u001b[0m\u001b[0;34m)\u001b[0m\u001b[0;34m\u001b[0m\u001b[0;34m\u001b[0m\u001b[0m\n\u001b[0m\u001b[1;32m      2\u001b[0m \u001b[0mcontext_labels\u001b[0m \u001b[0;34m=\u001b[0m \u001b[0mlist\u001b[0m\u001b[0;34m(\u001b[0m\u001b[0mdf\u001b[0m\u001b[0;34m[\u001b[0m\u001b[0mdf\u001b[0m\u001b[0;34m[\u001b[0m\u001b[0;34m'user'\u001b[0m\u001b[0;34m]\u001b[0m \u001b[0;34m==\u001b[0m \u001b[0;34m'annakhachiyan'\u001b[0m \u001b[0;32mor\u001b[0m \u001b[0mdf\u001b[0m\u001b[0;34m[\u001b[0m\u001b[0;34m'user'\u001b[0m\u001b[0;34m]\u001b[0m \u001b[0;34m==\u001b[0m \u001b[0;34m'Alyssa_Milano'\u001b[0m\u001b[0;34m]\u001b[0m\u001b[0;34m[\u001b[0m\u001b[0;34m'user'\u001b[0m\u001b[0;34m]\u001b[0m\u001b[0;34m)\u001b[0m\u001b[0;34m\u001b[0m\u001b[0;34m\u001b[0m\u001b[0m\n",
      "\u001b[0;32m~/twitter_mashup/tweetMashUp/lib/python3.6/site-packages/pandas/core/generic.py\u001b[0m in \u001b[0;36m__nonzero__\u001b[0;34m(self)\u001b[0m\n\u001b[1;32m   1328\u001b[0m     \u001b[0;32mdef\u001b[0m \u001b[0m__nonzero__\u001b[0m\u001b[0;34m(\u001b[0m\u001b[0mself\u001b[0m\u001b[0;34m)\u001b[0m\u001b[0;34m:\u001b[0m\u001b[0;34m\u001b[0m\u001b[0;34m\u001b[0m\u001b[0m\n\u001b[1;32m   1329\u001b[0m         raise ValueError(\n\u001b[0;32m-> 1330\u001b[0;31m             \u001b[0;34mf\"The truth value of a {type(self).__name__} is ambiguous. \"\u001b[0m\u001b[0;34m\u001b[0m\u001b[0;34m\u001b[0m\u001b[0m\n\u001b[0m\u001b[1;32m   1331\u001b[0m             \u001b[0;34m\"Use a.empty, a.bool(), a.item(), a.any() or a.all().\"\u001b[0m\u001b[0;34m\u001b[0m\u001b[0;34m\u001b[0m\u001b[0m\n\u001b[1;32m   1332\u001b[0m         )\n",
      "\u001b[0;31mValueError\u001b[0m: The truth value of a Series is ambiguous. Use a.empty, a.bool(), a.item(), a.any() or a.all()."
     ]
    }
   ],
   "source": [
    "texts = list(df[df['user'] == \"annakhachiyan\" or df['user'] == 'Alyssa_Milano']['cleaner_tweet'])\n",
    "context_labels = list(df[df['user'] == 'annakhachiyan' or df['user'] == 'Alyssa_Milano']['user'])"
   ]
  },
  {
   "cell_type": "code",
   "execution_count": 283,
   "metadata": {},
   "outputs": [
    {
     "data": {
      "text/plain": [
       "1034"
      ]
     },
     "execution_count": 283,
     "metadata": {},
     "output_type": "execute_result"
    }
   ],
   "source": [
    "len(texts)"
   ]
  },
  {
   "cell_type": "code",
   "execution_count": 284,
   "metadata": {},
   "outputs": [
    {
     "data": {
      "text/plain": [
       "1034"
      ]
     },
     "execution_count": 284,
     "metadata": {},
     "output_type": "execute_result"
    }
   ],
   "source": [
    "len(context_labels)"
   ]
  },
  {
   "cell_type": "code",
   "execution_count": 285,
   "metadata": {},
   "outputs": [
    {
     "data": {
      "text/plain": [
       "'Queen'"
      ]
     },
     "execution_count": 285,
     "metadata": {},
     "output_type": "execute_result"
    }
   ],
   "source": [
    "texts[0]"
   ]
  },
  {
   "cell_type": "code",
   "execution_count": 286,
   "metadata": {},
   "outputs": [
    {
     "data": {
      "text/plain": [
       "'Those feel when the elites keep lying'"
      ]
     },
     "execution_count": 286,
     "metadata": {},
     "output_type": "execute_result"
    }
   ],
   "source": [
    "texts[1]"
   ]
  },
  {
   "cell_type": "code",
   "execution_count": 287,
   "metadata": {},
   "outputs": [],
   "source": [
    "texts.extend([\";alksfj\"])"
   ]
  },
  {
   "cell_type": "code",
   "execution_count": 288,
   "metadata": {},
   "outputs": [
    {
     "data": {
      "text/plain": [
       "1035"
      ]
     },
     "execution_count": 288,
     "metadata": {},
     "output_type": "execute_result"
    }
   ],
   "source": [
    "len(texts)"
   ]
  },
  {
   "cell_type": "code",
   "execution_count": 289,
   "metadata": {},
   "outputs": [
    {
     "data": {
      "text/plain": [
       "';alksfj'"
      ]
     },
     "execution_count": 289,
     "metadata": {},
     "output_type": "execute_result"
    }
   ],
   "source": [
    "texts[-1]"
   ]
  },
  {
   "cell_type": "code",
   "execution_count": null,
   "metadata": {},
   "outputs": [],
   "source": []
  }
 ],
 "metadata": {
  "kernelspec": {
   "display_name": "Python 3",
   "language": "python",
   "name": "python3"
  },
  "language_info": {
   "codemirror_mode": {
    "name": "ipython",
    "version": 3
   },
   "file_extension": ".py",
   "mimetype": "text/x-python",
   "name": "python",
   "nbconvert_exporter": "python",
   "pygments_lexer": "ipython3",
   "version": "3.6.8"
  }
 },
 "nbformat": 4,
 "nbformat_minor": 4
}
